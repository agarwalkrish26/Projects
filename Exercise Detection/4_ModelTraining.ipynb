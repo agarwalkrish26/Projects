{
 "cells": [
  {
   "cell_type": "markdown",
   "metadata": {},
   "source": [
    "## KNN without PCA"
   ]
  },
  {
   "cell_type": "code",
   "execution_count": 1,
   "metadata": {},
   "outputs": [],
   "source": [
    "# Importing the target data\n",
    "with open('/media/hpc-lavasa/Data/krish21112016/abc/exercise_target.txt', 'r') as f:\n",
    "    target = f.readlines()\n",
    "\n",
    "# Extracting the target data from jibberish\n",
    "for i in range(len(target)):\n",
    "    target[i] = target[i][0]"
   ]
  },
  {
   "cell_type": "code",
   "execution_count": 2,
   "metadata": {},
   "outputs": [],
   "source": [
    "import pandas as pd\n",
    "data = pd.read_csv(\"/media/hpc-lavasa/Data/krish21112016/abc/exercise_data.csv\", header = None)"
   ]
  },
  {
   "cell_type": "code",
   "execution_count": 3,
   "metadata": {},
   "outputs": [],
   "source": [
    "# Pre-Processing\n",
    "from sklearn.decomposition import PCA\n",
    "\n",
    "# Model Selection\n",
    "from sklearn.model_selection import train_test_split\n",
    "\n",
    "# Models\n",
    "from sklearn.naive_bayes import GaussianNB\n",
    "from sklearn.linear_model import LogisticRegression\n",
    "from sklearn.neighbors import KNeighborsClassifier as KNN\n",
    "from sklearn.tree import DecisionTreeClassifier\n",
    "from sklearn.ensemble import RandomForestClassifier\n",
    "\n",
    "# Evaluation Metric\n",
    "from sklearn.metrics import accuracy_score\n",
    "from sklearn.metrics import f1_score\n",
    "\n",
    "# Computational Time\n",
    "import time"
   ]
  },
  {
   "cell_type": "code",
   "execution_count": 4,
   "metadata": {},
   "outputs": [],
   "source": [
    "random_states = [355, 742, 527, 788, 38, 254, 77, 93, 22, 257, 904, 161, 56, 120, 63, 891, 853, 479]"
   ]
  },
  {
   "cell_type": "code",
   "execution_count": 5,
   "metadata": {},
   "outputs": [],
   "source": [
    "# Defining values of the parameters\n",
    "n_comps = [10, 20, 30, 40, 50, 60, 70, 80, 90, 100, 110, 120, 200, 240]\n",
    "\n",
    "# Defining a list of models\n",
    "models = [LogisticRegression(), DecisionTreeClassifier(), RandomForestClassifier()]\n",
    "\n",
    "# Definging the dataframe and its attributes\n",
    "accuracy_dataframe = pd.DataFrame(columns = ['PCA Status', 'Algorhythm', 'n_components', 'Computation Time', 'random_state', 'Accuracy Score', 'F1 score'])\n",
    "accuracy_dataframe_wo = pd.DataFrame(columns = ['PCA Status', 'Algorhythm', 'Computation Time', 'random_state', 'Accuracy Score', 'F1 score'])"
   ]
  },
  {
   "cell_type": "code",
   "execution_count": 6,
   "metadata": {},
   "outputs": [
    {
     "name": "stdout",
     "output_type": "stream",
     "text": [
      "{'PCA Status': 'No', 'Algorhythm': KNeighborsClassifier(n_neighbors=2), 'Computation Time': 0.870753288269043, 'random_state': 2, 'Accuracy Score': 0.6166666666666667, 'F1 score': 0.6109885620915032}\n"
     ]
    },
    {
     "name": "stderr",
     "output_type": "stream",
     "text": [
      "/tmp/ipykernel_7133/2146564894.py:41: FutureWarning: The frame.append method is deprecated and will be removed from pandas in a future version. Use pandas.concat instead.\n",
      "  accuracy_dataframe_wo = accuracy_dataframe_wo.append(acc_dict, ignore_index=True)\n"
     ]
    },
    {
     "name": "stdout",
     "output_type": "stream",
     "text": [
      "{'PCA Status': 'No', 'Algorhythm': KNeighborsClassifier(n_neighbors=3), 'Computation Time': 1.717531442642212, 'random_state': 3, 'Accuracy Score': 0.55, 'F1 score': 0.5393003786060897}\n"
     ]
    },
    {
     "name": "stderr",
     "output_type": "stream",
     "text": [
      "/tmp/ipykernel_7133/2146564894.py:41: FutureWarning: The frame.append method is deprecated and will be removed from pandas in a future version. Use pandas.concat instead.\n",
      "  accuracy_dataframe_wo = accuracy_dataframe_wo.append(acc_dict, ignore_index=True)\n"
     ]
    },
    {
     "name": "stdout",
     "output_type": "stream",
     "text": [
      "{'PCA Status': 'No', 'Algorhythm': KNeighborsClassifier(), 'Computation Time': 0.5719835758209229, 'random_state': 5, 'Accuracy Score': 0.5166666666666667, 'F1 score': 0.5176173884187821}\n"
     ]
    },
    {
     "name": "stderr",
     "output_type": "stream",
     "text": [
      "/tmp/ipykernel_7133/2146564894.py:41: FutureWarning: The frame.append method is deprecated and will be removed from pandas in a future version. Use pandas.concat instead.\n",
      "  accuracy_dataframe_wo = accuracy_dataframe_wo.append(acc_dict, ignore_index=True)\n"
     ]
    },
    {
     "name": "stdout",
     "output_type": "stream",
     "text": [
      "{'PCA Status': 'No', 'Algorhythm': KNeighborsClassifier(n_neighbors=8), 'Computation Time': 0.5501430034637451, 'random_state': 8, 'Accuracy Score': 0.36666666666666664, 'F1 score': 0.3079774011299435}\n"
     ]
    },
    {
     "name": "stderr",
     "output_type": "stream",
     "text": [
      "/tmp/ipykernel_7133/2146564894.py:41: FutureWarning: The frame.append method is deprecated and will be removed from pandas in a future version. Use pandas.concat instead.\n",
      "  accuracy_dataframe_wo = accuracy_dataframe_wo.append(acc_dict, ignore_index=True)\n"
     ]
    },
    {
     "name": "stdout",
     "output_type": "stream",
     "text": [
      "{'PCA Status': 'No', 'Algorhythm': KNeighborsClassifier(n_neighbors=10), 'Computation Time': 1.4043681621551514, 'random_state': 10, 'Accuracy Score': 0.5666666666666667, 'F1 score': 0.5630952380952382}\n"
     ]
    },
    {
     "name": "stderr",
     "output_type": "stream",
     "text": [
      "/tmp/ipykernel_7133/2146564894.py:41: FutureWarning: The frame.append method is deprecated and will be removed from pandas in a future version. Use pandas.concat instead.\n",
      "  accuracy_dataframe_wo = accuracy_dataframe_wo.append(acc_dict, ignore_index=True)\n"
     ]
    },
    {
     "name": "stdout",
     "output_type": "stream",
     "text": [
      "{'PCA Status': 'No', 'Algorhythm': KNeighborsClassifier(n_neighbors=15), 'Computation Time': 0.4275088310241699, 'random_state': 15, 'Accuracy Score': 0.5, 'F1 score': 0.4861192285213326}\n"
     ]
    },
    {
     "name": "stderr",
     "output_type": "stream",
     "text": [
      "/tmp/ipykernel_7133/2146564894.py:41: FutureWarning: The frame.append method is deprecated and will be removed from pandas in a future version. Use pandas.concat instead.\n",
      "  accuracy_dataframe_wo = accuracy_dataframe_wo.append(acc_dict, ignore_index=True)\n"
     ]
    },
    {
     "name": "stdout",
     "output_type": "stream",
     "text": [
      "{'PCA Status': 'No', 'Algorhythm': KNeighborsClassifier(n_neighbors=20), 'Computation Time': 0.6863119602203369, 'random_state': 20, 'Accuracy Score': 0.45, 'F1 score': 0.39837949877520257}\n"
     ]
    },
    {
     "name": "stderr",
     "output_type": "stream",
     "text": [
      "/tmp/ipykernel_7133/2146564894.py:41: FutureWarning: The frame.append method is deprecated and will be removed from pandas in a future version. Use pandas.concat instead.\n",
      "  accuracy_dataframe_wo = accuracy_dataframe_wo.append(acc_dict, ignore_index=True)\n"
     ]
    }
   ],
   "source": [
    "# --- Without PCA: KNN ---\n",
    "\n",
    "models = [KNN()]\n",
    "ks = [2, 3, 5, 8, 10, 15, 20]\n",
    "\n",
    "for i in models:\n",
    "    for k in ks:\n",
    "\n",
    "        # Storing all the values in this empty dictionary\n",
    "        acc_dict = {}\n",
    "\n",
    "        # Defining the features and the target variables\n",
    "        X = data\n",
    "        y = target\n",
    "\n",
    "        # Starting the time counter\n",
    "        start_time = time.time()\n",
    "\n",
    "        # Model Training \n",
    "        i.set_params(n_neighbors = k)\n",
    "\n",
    "        # Data Splitting\n",
    "        X_train, X_test, y_train, y_test = train_test_split(X, y)\n",
    "        # Model Training\n",
    "        i.fit(X_train, y_train)\n",
    "\n",
    "        # Ending the time counter\n",
    "        time_taken = time.time() - start_time\n",
    "\n",
    "        # Prediction\n",
    "        y_pred = i.predict(X_test)\n",
    "\n",
    "        acc_dict['PCA Status'] = 'No'\n",
    "        acc_dict['Algorhythm'] = i\n",
    "        acc_dict['Computation Time'] = time_taken\n",
    "        acc_dict['random_state'] = k\n",
    "        acc_dict['Accuracy Score'] = accuracy_score(y_test, y_pred)\n",
    "        acc_dict['F1 score'] = f1_score(y_test, y_pred, average='weighted')\n",
    "        print(acc_dict)\n",
    "\n",
    "        accuracy_dataframe_wo = accuracy_dataframe_wo.append(acc_dict, ignore_index=True)"
   ]
  },
  {
   "cell_type": "code",
   "execution_count": 10,
   "metadata": {},
   "outputs": [],
   "source": [
    "# Exporting all the data to save the data\n",
    "accuracy_dataframe_wo.to_excel('Accuracy_woPCA_2.xlsx', index = False)"
   ]
  },
  {
   "cell_type": "code",
   "execution_count": 8,
   "metadata": {},
   "outputs": [
    {
     "name": "stdout",
     "output_type": "stream",
     "text": [
      "Defaulting to user installation because normal site-packages is not writeable\n",
      "Collecting openpyxl\n",
      "  Downloading openpyxl-3.1.2-py2.py3-none-any.whl (249 kB)\n",
      "\u001b[2K     \u001b[38;2;114;156;31m━━━━━━━━━━━━━━━━━━━━━━━━━━━━━━━━━━━━━\u001b[0m \u001b[32m250.0/250.0 kB\u001b[0m \u001b[31m682.1 kB/s\u001b[0m eta \u001b[36m0:00:00\u001b[0m[36m0:00:01\u001b[0m[36m0:00:01\u001b[0m:01\u001b[0m\n",
      "\u001b[?25hCollecting et-xmlfile\n",
      "  Downloading et_xmlfile-1.1.0-py3-none-any.whl (4.7 kB)\n",
      "Installing collected packages: et-xmlfile, openpyxl\n",
      "Successfully installed et-xmlfile-1.1.0 openpyxl-3.1.2\n",
      "\n",
      "\u001b[1m[\u001b[0m\u001b[34;49mnotice\u001b[0m\u001b[1;39;49m]\u001b[0m\u001b[39;49m A new release of pip available: \u001b[0m\u001b[31;49m22.3.1\u001b[0m\u001b[39;49m -> \u001b[0m\u001b[32;49m23.1.2\u001b[0m\n",
      "\u001b[1m[\u001b[0m\u001b[34;49mnotice\u001b[0m\u001b[1;39;49m]\u001b[0m\u001b[39;49m To update, run: \u001b[0m\u001b[32;49mpip install --upgrade pip\u001b[0m\n",
      "Note: you may need to restart the kernel to use updated packages.\n"
     ]
    }
   ],
   "source": [
    "pip install openpyxl"
   ]
  },
  {
   "cell_type": "code",
   "execution_count": null,
   "metadata": {},
   "outputs": [],
   "source": []
  }
 ],
 "metadata": {
  "kernelspec": {
   "display_name": "Python 3 (ipykernel)",
   "language": "python",
   "name": "python3"
  },
  "language_info": {
   "codemirror_mode": {
    "name": "ipython",
    "version": 3
   },
   "file_extension": ".py",
   "mimetype": "text/x-python",
   "name": "python",
   "nbconvert_exporter": "python",
   "pygments_lexer": "ipython3",
   "version": "3.11.1"
  }
 },
 "nbformat": 4,
 "nbformat_minor": 2
}
