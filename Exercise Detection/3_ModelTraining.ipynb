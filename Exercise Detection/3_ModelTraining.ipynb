{
 "cells": [
  {
   "cell_type": "markdown",
   "metadata": {},
   "source": [
    "## KNN with PCA"
   ]
  },
  {
   "cell_type": "code",
   "execution_count": 1,
   "metadata": {},
   "outputs": [],
   "source": [
    "# Importing the target data\n",
    "with open('/media/hpc-lavasa/Data/krish21112016/abc/exercise_target.txt', 'r') as f:\n",
    "    target = f.readlines()\n",
    "\n",
    "# Extracting the target data from jibberish\n",
    "for i in range(len(target)):\n",
    "    target[i] = target[i][0]"
   ]
  },
  {
   "cell_type": "code",
   "execution_count": 2,
   "metadata": {},
   "outputs": [],
   "source": [
    "import pandas as pd\n",
    "data = pd.read_csv(\"/media/hpc-lavasa/Data/krish21112016/abc/exercise_data.csv\", header = None)"
   ]
  },
  {
   "cell_type": "code",
   "execution_count": 3,
   "metadata": {},
   "outputs": [],
   "source": [
    "# Pre-Processing\n",
    "from sklearn.decomposition import PCA\n",
    "\n",
    "# Model Selection\n",
    "from sklearn.model_selection import train_test_split\n",
    "\n",
    "# Models\n",
    "from sklearn.naive_bayes import GaussianNB\n",
    "from sklearn.linear_model import LogisticRegression\n",
    "from sklearn.neighbors import KNeighborsClassifier as KNN\n",
    "from sklearn.tree import DecisionTreeClassifier\n",
    "from sklearn.ensemble import RandomForestClassifier\n",
    "\n",
    "# Evaluation Metric\n",
    "from sklearn.metrics import accuracy_score\n",
    "from sklearn.metrics import f1_score\n",
    "\n",
    "# Computational Time\n",
    "import time"
   ]
  },
  {
   "cell_type": "code",
   "execution_count": 10,
   "metadata": {},
   "outputs": [],
   "source": [
    "random_states = [355, 742, 527, 788, 38, 254, 77, 93, 22, 257, 904, 161, 56, 120, 63, 891, 853, 479]"
   ]
  },
  {
   "cell_type": "code",
   "execution_count": 14,
   "metadata": {},
   "outputs": [],
   "source": [
    "# Defining values of the parameters\n",
    "n_comps = [10, 20, 30, 40, 50, 60, 70, 80, 90, 100, 110, 120, 200, 500, 1000, 2000, 5000, 10000]\n",
    "\n",
    "# Defining a list of models\n",
    "models = [LogisticRegression(), DecisionTreeClassifier(), RandomForestClassifier()]\n",
    "\n",
    "# Definging the dataframe and its attributes\n",
    "accuracy_dataframe = pd.DataFrame(columns = ['PCA Status', 'Algorhythm', 'n_components', 'Computation Time', 'random_state', 'Accuracy Score', 'F1 score'])\n",
    "accuracy_dataframe_wo = pd.DataFrame(columns = ['PCA Status', 'Algorhythm', 'Computation Time', 'random_state', 'Accuracy Score', 'F1 score'])"
   ]
  },
  {
   "cell_type": "code",
   "execution_count": 15,
   "metadata": {},
   "outputs": [
    {
     "name": "stdout",
     "output_type": "stream",
     "text": [
      "{'PCA Status': 'Yes', 'Algorhythm': KNeighborsClassifier(n_neighbors=2), 'n_components': 10, 'Computation Time': 1.6259551048278809, 'random_state': 2, 'Accuracy Score': 0.6166666666666667, 'F1 score': 0.5956105280692987}\n"
     ]
    },
    {
     "name": "stderr",
     "output_type": "stream",
     "text": [
      "/tmp/ipykernel_7097/1382974011.py:47: FutureWarning: The frame.append method is deprecated and will be removed from pandas in a future version. Use pandas.concat instead.\n",
      "  accuracy_dataframe = accuracy_dataframe.append(acc_dict, ignore_index=True)\n"
     ]
    },
    {
     "name": "stdout",
     "output_type": "stream",
     "text": [
      "{'PCA Status': 'Yes', 'Algorhythm': KNeighborsClassifier(n_neighbors=3), 'n_components': 10, 'Computation Time': 1.4438884258270264, 'random_state': 3, 'Accuracy Score': 0.6666666666666666, 'F1 score': 0.668124098124098}\n"
     ]
    },
    {
     "name": "stderr",
     "output_type": "stream",
     "text": [
      "/tmp/ipykernel_7097/1382974011.py:47: FutureWarning: The frame.append method is deprecated and will be removed from pandas in a future version. Use pandas.concat instead.\n",
      "  accuracy_dataframe = accuracy_dataframe.append(acc_dict, ignore_index=True)\n"
     ]
    },
    {
     "name": "stdout",
     "output_type": "stream",
     "text": [
      "{'PCA Status': 'Yes', 'Algorhythm': KNeighborsClassifier(), 'n_components': 10, 'Computation Time': 1.3371362686157227, 'random_state': 5, 'Accuracy Score': 0.6166666666666667, 'F1 score': 0.6114334241415261}\n"
     ]
    },
    {
     "name": "stderr",
     "output_type": "stream",
     "text": [
      "/tmp/ipykernel_7097/1382974011.py:47: FutureWarning: The frame.append method is deprecated and will be removed from pandas in a future version. Use pandas.concat instead.\n",
      "  accuracy_dataframe = accuracy_dataframe.append(acc_dict, ignore_index=True)\n"
     ]
    },
    {
     "name": "stdout",
     "output_type": "stream",
     "text": [
      "{'PCA Status': 'Yes', 'Algorhythm': KNeighborsClassifier(n_neighbors=8), 'n_components': 10, 'Computation Time': 1.4241626262664795, 'random_state': 8, 'Accuracy Score': 0.5833333333333334, 'F1 score': 0.5673062330623305}\n"
     ]
    },
    {
     "name": "stderr",
     "output_type": "stream",
     "text": [
      "/tmp/ipykernel_7097/1382974011.py:47: FutureWarning: The frame.append method is deprecated and will be removed from pandas in a future version. Use pandas.concat instead.\n",
      "  accuracy_dataframe = accuracy_dataframe.append(acc_dict, ignore_index=True)\n"
     ]
    },
    {
     "name": "stdout",
     "output_type": "stream",
     "text": [
      "{'PCA Status': 'Yes', 'Algorhythm': KNeighborsClassifier(n_neighbors=10), 'n_components': 10, 'Computation Time': 1.4191641807556152, 'random_state': 10, 'Accuracy Score': 0.48333333333333334, 'F1 score': 0.44843358395989974}\n"
     ]
    },
    {
     "name": "stderr",
     "output_type": "stream",
     "text": [
      "/tmp/ipykernel_7097/1382974011.py:47: FutureWarning: The frame.append method is deprecated and will be removed from pandas in a future version. Use pandas.concat instead.\n",
      "  accuracy_dataframe = accuracy_dataframe.append(acc_dict, ignore_index=True)\n"
     ]
    },
    {
     "name": "stdout",
     "output_type": "stream",
     "text": [
      "{'PCA Status': 'Yes', 'Algorhythm': KNeighborsClassifier(n_neighbors=15), 'n_components': 10, 'Computation Time': 1.3339605331420898, 'random_state': 15, 'Accuracy Score': 0.55, 'F1 score': 0.5310267857142857}\n"
     ]
    },
    {
     "name": "stderr",
     "output_type": "stream",
     "text": [
      "/tmp/ipykernel_7097/1382974011.py:47: FutureWarning: The frame.append method is deprecated and will be removed from pandas in a future version. Use pandas.concat instead.\n",
      "  accuracy_dataframe = accuracy_dataframe.append(acc_dict, ignore_index=True)\n"
     ]
    },
    {
     "name": "stdout",
     "output_type": "stream",
     "text": [
      "{'PCA Status': 'Yes', 'Algorhythm': KNeighborsClassifier(n_neighbors=20), 'n_components': 10, 'Computation Time': 1.5939137935638428, 'random_state': 20, 'Accuracy Score': 0.3333333333333333, 'F1 score': 0.30617283950617286}\n"
     ]
    },
    {
     "name": "stderr",
     "output_type": "stream",
     "text": [
      "/tmp/ipykernel_7097/1382974011.py:47: FutureWarning: The frame.append method is deprecated and will be removed from pandas in a future version. Use pandas.concat instead.\n",
      "  accuracy_dataframe = accuracy_dataframe.append(acc_dict, ignore_index=True)\n"
     ]
    },
    {
     "name": "stdout",
     "output_type": "stream",
     "text": [
      "{'PCA Status': 'Yes', 'Algorhythm': KNeighborsClassifier(n_neighbors=2), 'n_components': 20, 'Computation Time': 2.0545763969421387, 'random_state': 2, 'Accuracy Score': 0.6, 'F1 score': 0.5483893156024303}\n"
     ]
    },
    {
     "name": "stderr",
     "output_type": "stream",
     "text": [
      "/tmp/ipykernel_7097/1382974011.py:47: FutureWarning: The frame.append method is deprecated and will be removed from pandas in a future version. Use pandas.concat instead.\n",
      "  accuracy_dataframe = accuracy_dataframe.append(acc_dict, ignore_index=True)\n"
     ]
    },
    {
     "name": "stdout",
     "output_type": "stream",
     "text": [
      "{'PCA Status': 'Yes', 'Algorhythm': KNeighborsClassifier(n_neighbors=3), 'n_components': 20, 'Computation Time': 1.9334828853607178, 'random_state': 3, 'Accuracy Score': 0.5166666666666667, 'F1 score': 0.5037037037037037}\n"
     ]
    },
    {
     "name": "stderr",
     "output_type": "stream",
     "text": [
      "/tmp/ipykernel_7097/1382974011.py:47: FutureWarning: The frame.append method is deprecated and will be removed from pandas in a future version. Use pandas.concat instead.\n",
      "  accuracy_dataframe = accuracy_dataframe.append(acc_dict, ignore_index=True)\n"
     ]
    },
    {
     "name": "stdout",
     "output_type": "stream",
     "text": [
      "{'PCA Status': 'Yes', 'Algorhythm': KNeighborsClassifier(), 'n_components': 20, 'Computation Time': 1.7266051769256592, 'random_state': 5, 'Accuracy Score': 0.5333333333333333, 'F1 score': 0.526890756302521}\n"
     ]
    },
    {
     "name": "stderr",
     "output_type": "stream",
     "text": [
      "/tmp/ipykernel_7097/1382974011.py:47: FutureWarning: The frame.append method is deprecated and will be removed from pandas in a future version. Use pandas.concat instead.\n",
      "  accuracy_dataframe = accuracy_dataframe.append(acc_dict, ignore_index=True)\n"
     ]
    },
    {
     "name": "stdout",
     "output_type": "stream",
     "text": [
      "{'PCA Status': 'Yes', 'Algorhythm': KNeighborsClassifier(n_neighbors=8), 'n_components': 20, 'Computation Time': 1.7709150314331055, 'random_state': 8, 'Accuracy Score': 0.55, 'F1 score': 0.5347982871309443}\n"
     ]
    },
    {
     "name": "stderr",
     "output_type": "stream",
     "text": [
      "/tmp/ipykernel_7097/1382974011.py:47: FutureWarning: The frame.append method is deprecated and will be removed from pandas in a future version. Use pandas.concat instead.\n",
      "  accuracy_dataframe = accuracy_dataframe.append(acc_dict, ignore_index=True)\n"
     ]
    },
    {
     "name": "stdout",
     "output_type": "stream",
     "text": [
      "{'PCA Status': 'Yes', 'Algorhythm': KNeighborsClassifier(n_neighbors=10), 'n_components': 20, 'Computation Time': 1.8207542896270752, 'random_state': 10, 'Accuracy Score': 0.5666666666666667, 'F1 score': 0.5474969474969474}\n"
     ]
    },
    {
     "name": "stderr",
     "output_type": "stream",
     "text": [
      "/tmp/ipykernel_7097/1382974011.py:47: FutureWarning: The frame.append method is deprecated and will be removed from pandas in a future version. Use pandas.concat instead.\n",
      "  accuracy_dataframe = accuracy_dataframe.append(acc_dict, ignore_index=True)\n"
     ]
    },
    {
     "name": "stdout",
     "output_type": "stream",
     "text": [
      "{'PCA Status': 'Yes', 'Algorhythm': KNeighborsClassifier(n_neighbors=15), 'n_components': 20, 'Computation Time': 1.9192347526550293, 'random_state': 15, 'Accuracy Score': 0.6333333333333333, 'F1 score': 0.6305820365820367}\n"
     ]
    },
    {
     "name": "stderr",
     "output_type": "stream",
     "text": [
      "/tmp/ipykernel_7097/1382974011.py:47: FutureWarning: The frame.append method is deprecated and will be removed from pandas in a future version. Use pandas.concat instead.\n",
      "  accuracy_dataframe = accuracy_dataframe.append(acc_dict, ignore_index=True)\n"
     ]
    },
    {
     "name": "stdout",
     "output_type": "stream",
     "text": [
      "{'PCA Status': 'Yes', 'Algorhythm': KNeighborsClassifier(n_neighbors=20), 'n_components': 20, 'Computation Time': 2.105560541152954, 'random_state': 20, 'Accuracy Score': 0.5333333333333333, 'F1 score': 0.5182121212121212}\n"
     ]
    },
    {
     "name": "stderr",
     "output_type": "stream",
     "text": [
      "/tmp/ipykernel_7097/1382974011.py:47: FutureWarning: The frame.append method is deprecated and will be removed from pandas in a future version. Use pandas.concat instead.\n",
      "  accuracy_dataframe = accuracy_dataframe.append(acc_dict, ignore_index=True)\n"
     ]
    },
    {
     "name": "stdout",
     "output_type": "stream",
     "text": [
      "{'PCA Status': 'Yes', 'Algorhythm': KNeighborsClassifier(n_neighbors=2), 'n_components': 30, 'Computation Time': 1.4549975395202637, 'random_state': 2, 'Accuracy Score': 0.6666666666666666, 'F1 score': 0.6656452156517391}\n"
     ]
    },
    {
     "name": "stderr",
     "output_type": "stream",
     "text": [
      "/tmp/ipykernel_7097/1382974011.py:47: FutureWarning: The frame.append method is deprecated and will be removed from pandas in a future version. Use pandas.concat instead.\n",
      "  accuracy_dataframe = accuracy_dataframe.append(acc_dict, ignore_index=True)\n"
     ]
    },
    {
     "name": "stdout",
     "output_type": "stream",
     "text": [
      "{'PCA Status': 'Yes', 'Algorhythm': KNeighborsClassifier(n_neighbors=3), 'n_components': 30, 'Computation Time': 1.6156933307647705, 'random_state': 3, 'Accuracy Score': 0.5333333333333333, 'F1 score': 0.5207695163835514}\n"
     ]
    },
    {
     "name": "stderr",
     "output_type": "stream",
     "text": [
      "/tmp/ipykernel_7097/1382974011.py:47: FutureWarning: The frame.append method is deprecated and will be removed from pandas in a future version. Use pandas.concat instead.\n",
      "  accuracy_dataframe = accuracy_dataframe.append(acc_dict, ignore_index=True)\n"
     ]
    },
    {
     "name": "stdout",
     "output_type": "stream",
     "text": [
      "{'PCA Status': 'Yes', 'Algorhythm': KNeighborsClassifier(), 'n_components': 30, 'Computation Time': 1.7071783542633057, 'random_state': 5, 'Accuracy Score': 0.5833333333333334, 'F1 score': 0.5715353284318802}\n"
     ]
    },
    {
     "name": "stderr",
     "output_type": "stream",
     "text": [
      "/tmp/ipykernel_7097/1382974011.py:47: FutureWarning: The frame.append method is deprecated and will be removed from pandas in a future version. Use pandas.concat instead.\n",
      "  accuracy_dataframe = accuracy_dataframe.append(acc_dict, ignore_index=True)\n"
     ]
    },
    {
     "name": "stdout",
     "output_type": "stream",
     "text": [
      "{'PCA Status': 'Yes', 'Algorhythm': KNeighborsClassifier(n_neighbors=8), 'n_components': 30, 'Computation Time': 1.4968128204345703, 'random_state': 8, 'Accuracy Score': 0.5, 'F1 score': 0.47793002665884027}\n"
     ]
    },
    {
     "name": "stderr",
     "output_type": "stream",
     "text": [
      "/tmp/ipykernel_7097/1382974011.py:47: FutureWarning: The frame.append method is deprecated and will be removed from pandas in a future version. Use pandas.concat instead.\n",
      "  accuracy_dataframe = accuracy_dataframe.append(acc_dict, ignore_index=True)\n"
     ]
    },
    {
     "name": "stdout",
     "output_type": "stream",
     "text": [
      "{'PCA Status': 'Yes', 'Algorhythm': KNeighborsClassifier(n_neighbors=10), 'n_components': 30, 'Computation Time': 1.5580427646636963, 'random_state': 10, 'Accuracy Score': 0.7166666666666667, 'F1 score': 0.7100529100529102}\n"
     ]
    },
    {
     "name": "stderr",
     "output_type": "stream",
     "text": [
      "/tmp/ipykernel_7097/1382974011.py:47: FutureWarning: The frame.append method is deprecated and will be removed from pandas in a future version. Use pandas.concat instead.\n",
      "  accuracy_dataframe = accuracy_dataframe.append(acc_dict, ignore_index=True)\n"
     ]
    },
    {
     "name": "stdout",
     "output_type": "stream",
     "text": [
      "{'PCA Status': 'Yes', 'Algorhythm': KNeighborsClassifier(n_neighbors=15), 'n_components': 30, 'Computation Time': 1.5401318073272705, 'random_state': 15, 'Accuracy Score': 0.6, 'F1 score': 0.5951311112601434}\n"
     ]
    },
    {
     "name": "stderr",
     "output_type": "stream",
     "text": [
      "/tmp/ipykernel_7097/1382974011.py:47: FutureWarning: The frame.append method is deprecated and will be removed from pandas in a future version. Use pandas.concat instead.\n",
      "  accuracy_dataframe = accuracy_dataframe.append(acc_dict, ignore_index=True)\n"
     ]
    },
    {
     "name": "stdout",
     "output_type": "stream",
     "text": [
      "{'PCA Status': 'Yes', 'Algorhythm': KNeighborsClassifier(n_neighbors=20), 'n_components': 30, 'Computation Time': 1.5631933212280273, 'random_state': 20, 'Accuracy Score': 0.43333333333333335, 'F1 score': 0.4003189792663477}\n"
     ]
    },
    {
     "name": "stderr",
     "output_type": "stream",
     "text": [
      "/tmp/ipykernel_7097/1382974011.py:47: FutureWarning: The frame.append method is deprecated and will be removed from pandas in a future version. Use pandas.concat instead.\n",
      "  accuracy_dataframe = accuracy_dataframe.append(acc_dict, ignore_index=True)\n"
     ]
    },
    {
     "name": "stdout",
     "output_type": "stream",
     "text": [
      "{'PCA Status': 'Yes', 'Algorhythm': KNeighborsClassifier(n_neighbors=2), 'n_components': 40, 'Computation Time': 2.0731046199798584, 'random_state': 2, 'Accuracy Score': 0.65, 'F1 score': 0.6351844354475933}\n"
     ]
    },
    {
     "name": "stderr",
     "output_type": "stream",
     "text": [
      "/tmp/ipykernel_7097/1382974011.py:47: FutureWarning: The frame.append method is deprecated and will be removed from pandas in a future version. Use pandas.concat instead.\n",
      "  accuracy_dataframe = accuracy_dataframe.append(acc_dict, ignore_index=True)\n"
     ]
    },
    {
     "name": "stdout",
     "output_type": "stream",
     "text": [
      "{'PCA Status': 'Yes', 'Algorhythm': KNeighborsClassifier(n_neighbors=3), 'n_components': 40, 'Computation Time': 2.101884365081787, 'random_state': 3, 'Accuracy Score': 0.55, 'F1 score': 0.5561507936507937}\n"
     ]
    },
    {
     "name": "stderr",
     "output_type": "stream",
     "text": [
      "/tmp/ipykernel_7097/1382974011.py:47: FutureWarning: The frame.append method is deprecated and will be removed from pandas in a future version. Use pandas.concat instead.\n",
      "  accuracy_dataframe = accuracy_dataframe.append(acc_dict, ignore_index=True)\n"
     ]
    },
    {
     "name": "stdout",
     "output_type": "stream",
     "text": [
      "{'PCA Status': 'Yes', 'Algorhythm': KNeighborsClassifier(), 'n_components': 40, 'Computation Time': 2.349203109741211, 'random_state': 5, 'Accuracy Score': 0.5333333333333333, 'F1 score': 0.5164350064350064}\n"
     ]
    },
    {
     "name": "stderr",
     "output_type": "stream",
     "text": [
      "/tmp/ipykernel_7097/1382974011.py:47: FutureWarning: The frame.append method is deprecated and will be removed from pandas in a future version. Use pandas.concat instead.\n",
      "  accuracy_dataframe = accuracy_dataframe.append(acc_dict, ignore_index=True)\n"
     ]
    },
    {
     "name": "stdout",
     "output_type": "stream",
     "text": [
      "{'PCA Status': 'Yes', 'Algorhythm': KNeighborsClassifier(n_neighbors=8), 'n_components': 40, 'Computation Time': 2.971942186355591, 'random_state': 8, 'Accuracy Score': 0.5166666666666667, 'F1 score': 0.48241075229580976}\n"
     ]
    },
    {
     "name": "stderr",
     "output_type": "stream",
     "text": [
      "/tmp/ipykernel_7097/1382974011.py:47: FutureWarning: The frame.append method is deprecated and will be removed from pandas in a future version. Use pandas.concat instead.\n",
      "  accuracy_dataframe = accuracy_dataframe.append(acc_dict, ignore_index=True)\n"
     ]
    },
    {
     "name": "stdout",
     "output_type": "stream",
     "text": [
      "{'PCA Status': 'Yes', 'Algorhythm': KNeighborsClassifier(n_neighbors=10), 'n_components': 40, 'Computation Time': 2.8210489749908447, 'random_state': 10, 'Accuracy Score': 0.5166666666666667, 'F1 score': 0.5025}\n"
     ]
    },
    {
     "name": "stderr",
     "output_type": "stream",
     "text": [
      "/tmp/ipykernel_7097/1382974011.py:47: FutureWarning: The frame.append method is deprecated and will be removed from pandas in a future version. Use pandas.concat instead.\n",
      "  accuracy_dataframe = accuracy_dataframe.append(acc_dict, ignore_index=True)\n"
     ]
    },
    {
     "name": "stdout",
     "output_type": "stream",
     "text": [
      "{'PCA Status': 'Yes', 'Algorhythm': KNeighborsClassifier(n_neighbors=15), 'n_components': 40, 'Computation Time': 2.8339784145355225, 'random_state': 15, 'Accuracy Score': 0.6, 'F1 score': 0.5827777777777778}\n"
     ]
    },
    {
     "name": "stderr",
     "output_type": "stream",
     "text": [
      "/tmp/ipykernel_7097/1382974011.py:47: FutureWarning: The frame.append method is deprecated and will be removed from pandas in a future version. Use pandas.concat instead.\n",
      "  accuracy_dataframe = accuracy_dataframe.append(acc_dict, ignore_index=True)\n"
     ]
    },
    {
     "name": "stdout",
     "output_type": "stream",
     "text": [
      "{'PCA Status': 'Yes', 'Algorhythm': KNeighborsClassifier(n_neighbors=20), 'n_components': 40, 'Computation Time': 2.9110026359558105, 'random_state': 20, 'Accuracy Score': 0.48333333333333334, 'F1 score': 0.43009039548022604}\n"
     ]
    },
    {
     "name": "stderr",
     "output_type": "stream",
     "text": [
      "/tmp/ipykernel_7097/1382974011.py:47: FutureWarning: The frame.append method is deprecated and will be removed from pandas in a future version. Use pandas.concat instead.\n",
      "  accuracy_dataframe = accuracy_dataframe.append(acc_dict, ignore_index=True)\n"
     ]
    },
    {
     "name": "stdout",
     "output_type": "stream",
     "text": [
      "{'PCA Status': 'Yes', 'Algorhythm': KNeighborsClassifier(n_neighbors=2), 'n_components': 50, 'Computation Time': 3.2628371715545654, 'random_state': 2, 'Accuracy Score': 0.6833333333333333, 'F1 score': 0.6758865248226951}\n"
     ]
    },
    {
     "name": "stderr",
     "output_type": "stream",
     "text": [
      "/tmp/ipykernel_7097/1382974011.py:47: FutureWarning: The frame.append method is deprecated and will be removed from pandas in a future version. Use pandas.concat instead.\n",
      "  accuracy_dataframe = accuracy_dataframe.append(acc_dict, ignore_index=True)\n"
     ]
    },
    {
     "name": "stdout",
     "output_type": "stream",
     "text": [
      "{'PCA Status': 'Yes', 'Algorhythm': KNeighborsClassifier(n_neighbors=3), 'n_components': 50, 'Computation Time': 3.266688346862793, 'random_state': 3, 'Accuracy Score': 0.5833333333333334, 'F1 score': 0.585392071855755}\n"
     ]
    },
    {
     "name": "stderr",
     "output_type": "stream",
     "text": [
      "/tmp/ipykernel_7097/1382974011.py:47: FutureWarning: The frame.append method is deprecated and will be removed from pandas in a future version. Use pandas.concat instead.\n",
      "  accuracy_dataframe = accuracy_dataframe.append(acc_dict, ignore_index=True)\n"
     ]
    },
    {
     "name": "stdout",
     "output_type": "stream",
     "text": [
      "{'PCA Status': 'Yes', 'Algorhythm': KNeighborsClassifier(), 'n_components': 50, 'Computation Time': 3.4164578914642334, 'random_state': 5, 'Accuracy Score': 0.5833333333333334, 'F1 score': 0.5904431691375737}\n"
     ]
    },
    {
     "name": "stderr",
     "output_type": "stream",
     "text": [
      "/tmp/ipykernel_7097/1382974011.py:47: FutureWarning: The frame.append method is deprecated and will be removed from pandas in a future version. Use pandas.concat instead.\n",
      "  accuracy_dataframe = accuracy_dataframe.append(acc_dict, ignore_index=True)\n"
     ]
    },
    {
     "name": "stdout",
     "output_type": "stream",
     "text": [
      "{'PCA Status': 'Yes', 'Algorhythm': KNeighborsClassifier(n_neighbors=8), 'n_components': 50, 'Computation Time': 3.328097343444824, 'random_state': 8, 'Accuracy Score': 0.4666666666666667, 'F1 score': 0.45666666666666667}\n"
     ]
    },
    {
     "name": "stderr",
     "output_type": "stream",
     "text": [
      "/tmp/ipykernel_7097/1382974011.py:47: FutureWarning: The frame.append method is deprecated and will be removed from pandas in a future version. Use pandas.concat instead.\n",
      "  accuracy_dataframe = accuracy_dataframe.append(acc_dict, ignore_index=True)\n"
     ]
    },
    {
     "name": "stdout",
     "output_type": "stream",
     "text": [
      "{'PCA Status': 'Yes', 'Algorhythm': KNeighborsClassifier(n_neighbors=10), 'n_components': 50, 'Computation Time': 3.2039883136749268, 'random_state': 10, 'Accuracy Score': 0.6833333333333333, 'F1 score': 0.6632025786048775}\n"
     ]
    },
    {
     "name": "stderr",
     "output_type": "stream",
     "text": [
      "/tmp/ipykernel_7097/1382974011.py:47: FutureWarning: The frame.append method is deprecated and will be removed from pandas in a future version. Use pandas.concat instead.\n",
      "  accuracy_dataframe = accuracy_dataframe.append(acc_dict, ignore_index=True)\n"
     ]
    },
    {
     "name": "stdout",
     "output_type": "stream",
     "text": [
      "{'PCA Status': 'Yes', 'Algorhythm': KNeighborsClassifier(n_neighbors=15), 'n_components': 50, 'Computation Time': 3.325733184814453, 'random_state': 15, 'Accuracy Score': 0.5166666666666667, 'F1 score': 0.48082092833364726}\n"
     ]
    },
    {
     "name": "stderr",
     "output_type": "stream",
     "text": [
      "/tmp/ipykernel_7097/1382974011.py:47: FutureWarning: The frame.append method is deprecated and will be removed from pandas in a future version. Use pandas.concat instead.\n",
      "  accuracy_dataframe = accuracy_dataframe.append(acc_dict, ignore_index=True)\n"
     ]
    },
    {
     "name": "stdout",
     "output_type": "stream",
     "text": [
      "{'PCA Status': 'Yes', 'Algorhythm': KNeighborsClassifier(n_neighbors=20), 'n_components': 50, 'Computation Time': 3.4088594913482666, 'random_state': 20, 'Accuracy Score': 0.5, 'F1 score': 0.4562678062678062}\n"
     ]
    },
    {
     "name": "stderr",
     "output_type": "stream",
     "text": [
      "/tmp/ipykernel_7097/1382974011.py:47: FutureWarning: The frame.append method is deprecated and will be removed from pandas in a future version. Use pandas.concat instead.\n",
      "  accuracy_dataframe = accuracy_dataframe.append(acc_dict, ignore_index=True)\n"
     ]
    },
    {
     "name": "stdout",
     "output_type": "stream",
     "text": [
      "{'PCA Status': 'Yes', 'Algorhythm': KNeighborsClassifier(n_neighbors=2), 'n_components': 60, 'Computation Time': 3.5864484310150146, 'random_state': 2, 'Accuracy Score': 0.7333333333333333, 'F1 score': 0.7262014483212641}\n"
     ]
    },
    {
     "name": "stderr",
     "output_type": "stream",
     "text": [
      "/tmp/ipykernel_7097/1382974011.py:47: FutureWarning: The frame.append method is deprecated and will be removed from pandas in a future version. Use pandas.concat instead.\n",
      "  accuracy_dataframe = accuracy_dataframe.append(acc_dict, ignore_index=True)\n"
     ]
    },
    {
     "name": "stdout",
     "output_type": "stream",
     "text": [
      "{'PCA Status': 'Yes', 'Algorhythm': KNeighborsClassifier(n_neighbors=3), 'n_components': 60, 'Computation Time': 3.751952648162842, 'random_state': 3, 'Accuracy Score': 0.5833333333333334, 'F1 score': 0.5593686868686869}\n"
     ]
    },
    {
     "name": "stderr",
     "output_type": "stream",
     "text": [
      "/tmp/ipykernel_7097/1382974011.py:47: FutureWarning: The frame.append method is deprecated and will be removed from pandas in a future version. Use pandas.concat instead.\n",
      "  accuracy_dataframe = accuracy_dataframe.append(acc_dict, ignore_index=True)\n"
     ]
    },
    {
     "name": "stdout",
     "output_type": "stream",
     "text": [
      "{'PCA Status': 'Yes', 'Algorhythm': KNeighborsClassifier(), 'n_components': 60, 'Computation Time': 3.5535948276519775, 'random_state': 5, 'Accuracy Score': 0.6666666666666666, 'F1 score': 0.6557232704402516}\n"
     ]
    },
    {
     "name": "stderr",
     "output_type": "stream",
     "text": [
      "/tmp/ipykernel_7097/1382974011.py:47: FutureWarning: The frame.append method is deprecated and will be removed from pandas in a future version. Use pandas.concat instead.\n",
      "  accuracy_dataframe = accuracy_dataframe.append(acc_dict, ignore_index=True)\n"
     ]
    },
    {
     "name": "stdout",
     "output_type": "stream",
     "text": [
      "{'PCA Status': 'Yes', 'Algorhythm': KNeighborsClassifier(n_neighbors=8), 'n_components': 60, 'Computation Time': 3.5934126377105713, 'random_state': 8, 'Accuracy Score': 0.5333333333333333, 'F1 score': 0.5119233268356075}\n"
     ]
    },
    {
     "name": "stderr",
     "output_type": "stream",
     "text": [
      "/tmp/ipykernel_7097/1382974011.py:47: FutureWarning: The frame.append method is deprecated and will be removed from pandas in a future version. Use pandas.concat instead.\n",
      "  accuracy_dataframe = accuracy_dataframe.append(acc_dict, ignore_index=True)\n"
     ]
    },
    {
     "name": "stdout",
     "output_type": "stream",
     "text": [
      "{'PCA Status': 'Yes', 'Algorhythm': KNeighborsClassifier(n_neighbors=10), 'n_components': 60, 'Computation Time': 3.6073288917541504, 'random_state': 10, 'Accuracy Score': 0.6666666666666666, 'F1 score': 0.649767378215654}\n"
     ]
    },
    {
     "name": "stderr",
     "output_type": "stream",
     "text": [
      "/tmp/ipykernel_7097/1382974011.py:47: FutureWarning: The frame.append method is deprecated and will be removed from pandas in a future version. Use pandas.concat instead.\n",
      "  accuracy_dataframe = accuracy_dataframe.append(acc_dict, ignore_index=True)\n"
     ]
    },
    {
     "name": "stdout",
     "output_type": "stream",
     "text": [
      "{'PCA Status': 'Yes', 'Algorhythm': KNeighborsClassifier(n_neighbors=15), 'n_components': 60, 'Computation Time': 3.516528844833374, 'random_state': 15, 'Accuracy Score': 0.5333333333333333, 'F1 score': 0.5063568868407577}\n"
     ]
    },
    {
     "name": "stderr",
     "output_type": "stream",
     "text": [
      "/tmp/ipykernel_7097/1382974011.py:47: FutureWarning: The frame.append method is deprecated and will be removed from pandas in a future version. Use pandas.concat instead.\n",
      "  accuracy_dataframe = accuracy_dataframe.append(acc_dict, ignore_index=True)\n"
     ]
    },
    {
     "name": "stdout",
     "output_type": "stream",
     "text": [
      "{'PCA Status': 'Yes', 'Algorhythm': KNeighborsClassifier(n_neighbors=20), 'n_components': 60, 'Computation Time': 3.645555257797241, 'random_state': 20, 'Accuracy Score': 0.5333333333333333, 'F1 score': 0.4995551993588459}\n"
     ]
    },
    {
     "name": "stderr",
     "output_type": "stream",
     "text": [
      "/tmp/ipykernel_7097/1382974011.py:47: FutureWarning: The frame.append method is deprecated and will be removed from pandas in a future version. Use pandas.concat instead.\n",
      "  accuracy_dataframe = accuracy_dataframe.append(acc_dict, ignore_index=True)\n"
     ]
    },
    {
     "name": "stdout",
     "output_type": "stream",
     "text": [
      "{'PCA Status': 'Yes', 'Algorhythm': KNeighborsClassifier(n_neighbors=2), 'n_components': 70, 'Computation Time': 3.8430752754211426, 'random_state': 2, 'Accuracy Score': 0.6, 'F1 score': 0.5758730158730159}\n"
     ]
    },
    {
     "name": "stderr",
     "output_type": "stream",
     "text": [
      "/tmp/ipykernel_7097/1382974011.py:47: FutureWarning: The frame.append method is deprecated and will be removed from pandas in a future version. Use pandas.concat instead.\n",
      "  accuracy_dataframe = accuracy_dataframe.append(acc_dict, ignore_index=True)\n"
     ]
    },
    {
     "name": "stdout",
     "output_type": "stream",
     "text": [
      "{'PCA Status': 'Yes', 'Algorhythm': KNeighborsClassifier(n_neighbors=3), 'n_components': 70, 'Computation Time': 4.017382860183716, 'random_state': 3, 'Accuracy Score': 0.5833333333333334, 'F1 score': 0.5668716029582107}\n"
     ]
    },
    {
     "name": "stderr",
     "output_type": "stream",
     "text": [
      "/tmp/ipykernel_7097/1382974011.py:47: FutureWarning: The frame.append method is deprecated and will be removed from pandas in a future version. Use pandas.concat instead.\n",
      "  accuracy_dataframe = accuracy_dataframe.append(acc_dict, ignore_index=True)\n"
     ]
    },
    {
     "name": "stdout",
     "output_type": "stream",
     "text": [
      "{'PCA Status': 'Yes', 'Algorhythm': KNeighborsClassifier(), 'n_components': 70, 'Computation Time': 3.513549566268921, 'random_state': 5, 'Accuracy Score': 0.5833333333333334, 'F1 score': 0.5647712647712647}\n"
     ]
    },
    {
     "name": "stderr",
     "output_type": "stream",
     "text": [
      "/tmp/ipykernel_7097/1382974011.py:47: FutureWarning: The frame.append method is deprecated and will be removed from pandas in a future version. Use pandas.concat instead.\n",
      "  accuracy_dataframe = accuracy_dataframe.append(acc_dict, ignore_index=True)\n"
     ]
    },
    {
     "name": "stdout",
     "output_type": "stream",
     "text": [
      "{'PCA Status': 'Yes', 'Algorhythm': KNeighborsClassifier(n_neighbors=8), 'n_components': 70, 'Computation Time': 3.5997748374938965, 'random_state': 8, 'Accuracy Score': 0.6, 'F1 score': 0.5828243717124489}\n"
     ]
    },
    {
     "name": "stderr",
     "output_type": "stream",
     "text": [
      "/tmp/ipykernel_7097/1382974011.py:47: FutureWarning: The frame.append method is deprecated and will be removed from pandas in a future version. Use pandas.concat instead.\n",
      "  accuracy_dataframe = accuracy_dataframe.append(acc_dict, ignore_index=True)\n"
     ]
    },
    {
     "name": "stdout",
     "output_type": "stream",
     "text": [
      "{'PCA Status': 'Yes', 'Algorhythm': KNeighborsClassifier(n_neighbors=10), 'n_components': 70, 'Computation Time': 4.113925933837891, 'random_state': 10, 'Accuracy Score': 0.55, 'F1 score': 0.5373854447439352}\n"
     ]
    },
    {
     "name": "stderr",
     "output_type": "stream",
     "text": [
      "/tmp/ipykernel_7097/1382974011.py:47: FutureWarning: The frame.append method is deprecated and will be removed from pandas in a future version. Use pandas.concat instead.\n",
      "  accuracy_dataframe = accuracy_dataframe.append(acc_dict, ignore_index=True)\n"
     ]
    },
    {
     "name": "stdout",
     "output_type": "stream",
     "text": [
      "{'PCA Status': 'Yes', 'Algorhythm': KNeighborsClassifier(n_neighbors=15), 'n_components': 70, 'Computation Time': 3.8764498233795166, 'random_state': 15, 'Accuracy Score': 0.6666666666666666, 'F1 score': 0.6652003410059676}\n"
     ]
    },
    {
     "name": "stderr",
     "output_type": "stream",
     "text": [
      "/tmp/ipykernel_7097/1382974011.py:47: FutureWarning: The frame.append method is deprecated and will be removed from pandas in a future version. Use pandas.concat instead.\n",
      "  accuracy_dataframe = accuracy_dataframe.append(acc_dict, ignore_index=True)\n"
     ]
    },
    {
     "name": "stdout",
     "output_type": "stream",
     "text": [
      "{'PCA Status': 'Yes', 'Algorhythm': KNeighborsClassifier(n_neighbors=20), 'n_components': 70, 'Computation Time': 3.850144863128662, 'random_state': 20, 'Accuracy Score': 0.45, 'F1 score': 0.43350168350168355}\n"
     ]
    },
    {
     "name": "stderr",
     "output_type": "stream",
     "text": [
      "/tmp/ipykernel_7097/1382974011.py:47: FutureWarning: The frame.append method is deprecated and will be removed from pandas in a future version. Use pandas.concat instead.\n",
      "  accuracy_dataframe = accuracy_dataframe.append(acc_dict, ignore_index=True)\n"
     ]
    },
    {
     "name": "stdout",
     "output_type": "stream",
     "text": [
      "{'PCA Status': 'Yes', 'Algorhythm': KNeighborsClassifier(n_neighbors=2), 'n_components': 80, 'Computation Time': 4.033411741256714, 'random_state': 2, 'Accuracy Score': 0.65, 'F1 score': 0.6380519775477758}\n"
     ]
    },
    {
     "name": "stderr",
     "output_type": "stream",
     "text": [
      "/tmp/ipykernel_7097/1382974011.py:47: FutureWarning: The frame.append method is deprecated and will be removed from pandas in a future version. Use pandas.concat instead.\n",
      "  accuracy_dataframe = accuracy_dataframe.append(acc_dict, ignore_index=True)\n"
     ]
    },
    {
     "name": "stdout",
     "output_type": "stream",
     "text": [
      "{'PCA Status': 'Yes', 'Algorhythm': KNeighborsClassifier(n_neighbors=3), 'n_components': 80, 'Computation Time': 4.083479166030884, 'random_state': 3, 'Accuracy Score': 0.6333333333333333, 'F1 score': 0.6144300144300144}\n"
     ]
    },
    {
     "name": "stderr",
     "output_type": "stream",
     "text": [
      "/tmp/ipykernel_7097/1382974011.py:47: FutureWarning: The frame.append method is deprecated and will be removed from pandas in a future version. Use pandas.concat instead.\n",
      "  accuracy_dataframe = accuracy_dataframe.append(acc_dict, ignore_index=True)\n"
     ]
    },
    {
     "name": "stdout",
     "output_type": "stream",
     "text": [
      "{'PCA Status': 'Yes', 'Algorhythm': KNeighborsClassifier(), 'n_components': 80, 'Computation Time': 3.9859676361083984, 'random_state': 5, 'Accuracy Score': 0.55, 'F1 score': 0.5233526330300524}\n"
     ]
    },
    {
     "name": "stderr",
     "output_type": "stream",
     "text": [
      "/tmp/ipykernel_7097/1382974011.py:47: FutureWarning: The frame.append method is deprecated and will be removed from pandas in a future version. Use pandas.concat instead.\n",
      "  accuracy_dataframe = accuracy_dataframe.append(acc_dict, ignore_index=True)\n"
     ]
    },
    {
     "name": "stdout",
     "output_type": "stream",
     "text": [
      "{'PCA Status': 'Yes', 'Algorhythm': KNeighborsClassifier(n_neighbors=8), 'n_components': 80, 'Computation Time': 4.367242813110352, 'random_state': 8, 'Accuracy Score': 0.6166666666666667, 'F1 score': 0.604093665768194}\n"
     ]
    },
    {
     "name": "stderr",
     "output_type": "stream",
     "text": [
      "/tmp/ipykernel_7097/1382974011.py:47: FutureWarning: The frame.append method is deprecated and will be removed from pandas in a future version. Use pandas.concat instead.\n",
      "  accuracy_dataframe = accuracy_dataframe.append(acc_dict, ignore_index=True)\n"
     ]
    },
    {
     "name": "stdout",
     "output_type": "stream",
     "text": [
      "{'PCA Status': 'Yes', 'Algorhythm': KNeighborsClassifier(n_neighbors=10), 'n_components': 80, 'Computation Time': 4.243925094604492, 'random_state': 10, 'Accuracy Score': 0.45, 'F1 score': 0.4063510101010101}\n"
     ]
    },
    {
     "name": "stderr",
     "output_type": "stream",
     "text": [
      "/tmp/ipykernel_7097/1382974011.py:47: FutureWarning: The frame.append method is deprecated and will be removed from pandas in a future version. Use pandas.concat instead.\n",
      "  accuracy_dataframe = accuracy_dataframe.append(acc_dict, ignore_index=True)\n"
     ]
    },
    {
     "name": "stdout",
     "output_type": "stream",
     "text": [
      "{'PCA Status': 'Yes', 'Algorhythm': KNeighborsClassifier(n_neighbors=15), 'n_components': 80, 'Computation Time': 4.122928142547607, 'random_state': 15, 'Accuracy Score': 0.6, 'F1 score': 0.5944444444444446}\n"
     ]
    },
    {
     "name": "stderr",
     "output_type": "stream",
     "text": [
      "/tmp/ipykernel_7097/1382974011.py:47: FutureWarning: The frame.append method is deprecated and will be removed from pandas in a future version. Use pandas.concat instead.\n",
      "  accuracy_dataframe = accuracy_dataframe.append(acc_dict, ignore_index=True)\n"
     ]
    },
    {
     "name": "stdout",
     "output_type": "stream",
     "text": [
      "{'PCA Status': 'Yes', 'Algorhythm': KNeighborsClassifier(n_neighbors=20), 'n_components': 80, 'Computation Time': 4.231909513473511, 'random_state': 20, 'Accuracy Score': 0.5, 'F1 score': 0.44070364663585004}\n"
     ]
    },
    {
     "name": "stderr",
     "output_type": "stream",
     "text": [
      "/tmp/ipykernel_7097/1382974011.py:47: FutureWarning: The frame.append method is deprecated and will be removed from pandas in a future version. Use pandas.concat instead.\n",
      "  accuracy_dataframe = accuracy_dataframe.append(acc_dict, ignore_index=True)\n"
     ]
    },
    {
     "name": "stdout",
     "output_type": "stream",
     "text": [
      "{'PCA Status': 'Yes', 'Algorhythm': KNeighborsClassifier(n_neighbors=2), 'n_components': 90, 'Computation Time': 4.24950647354126, 'random_state': 2, 'Accuracy Score': 0.6166666666666667, 'F1 score': 0.6157323232323233}\n"
     ]
    },
    {
     "name": "stderr",
     "output_type": "stream",
     "text": [
      "/tmp/ipykernel_7097/1382974011.py:47: FutureWarning: The frame.append method is deprecated and will be removed from pandas in a future version. Use pandas.concat instead.\n",
      "  accuracy_dataframe = accuracy_dataframe.append(acc_dict, ignore_index=True)\n"
     ]
    },
    {
     "name": "stdout",
     "output_type": "stream",
     "text": [
      "{'PCA Status': 'Yes', 'Algorhythm': KNeighborsClassifier(n_neighbors=3), 'n_components': 90, 'Computation Time': 4.225033283233643, 'random_state': 3, 'Accuracy Score': 0.5333333333333333, 'F1 score': 0.5144930739758325}\n"
     ]
    },
    {
     "name": "stderr",
     "output_type": "stream",
     "text": [
      "/tmp/ipykernel_7097/1382974011.py:47: FutureWarning: The frame.append method is deprecated and will be removed from pandas in a future version. Use pandas.concat instead.\n",
      "  accuracy_dataframe = accuracy_dataframe.append(acc_dict, ignore_index=True)\n"
     ]
    },
    {
     "name": "stdout",
     "output_type": "stream",
     "text": [
      "{'PCA Status': 'Yes', 'Algorhythm': KNeighborsClassifier(), 'n_components': 90, 'Computation Time': 4.592141628265381, 'random_state': 5, 'Accuracy Score': 0.55, 'F1 score': 0.5271956856702619}\n"
     ]
    },
    {
     "name": "stderr",
     "output_type": "stream",
     "text": [
      "/tmp/ipykernel_7097/1382974011.py:47: FutureWarning: The frame.append method is deprecated and will be removed from pandas in a future version. Use pandas.concat instead.\n",
      "  accuracy_dataframe = accuracy_dataframe.append(acc_dict, ignore_index=True)\n"
     ]
    },
    {
     "name": "stdout",
     "output_type": "stream",
     "text": [
      "{'PCA Status': 'Yes', 'Algorhythm': KNeighborsClassifier(n_neighbors=8), 'n_components': 90, 'Computation Time': 4.184324502944946, 'random_state': 8, 'Accuracy Score': 0.4666666666666667, 'F1 score': 0.4274509803921569}\n"
     ]
    },
    {
     "name": "stderr",
     "output_type": "stream",
     "text": [
      "/tmp/ipykernel_7097/1382974011.py:47: FutureWarning: The frame.append method is deprecated and will be removed from pandas in a future version. Use pandas.concat instead.\n",
      "  accuracy_dataframe = accuracy_dataframe.append(acc_dict, ignore_index=True)\n"
     ]
    },
    {
     "name": "stdout",
     "output_type": "stream",
     "text": [
      "{'PCA Status': 'Yes', 'Algorhythm': KNeighborsClassifier(n_neighbors=10), 'n_components': 90, 'Computation Time': 4.460983991622925, 'random_state': 10, 'Accuracy Score': 0.43333333333333335, 'F1 score': 0.3975944404846757}\n"
     ]
    },
    {
     "name": "stderr",
     "output_type": "stream",
     "text": [
      "/tmp/ipykernel_7097/1382974011.py:47: FutureWarning: The frame.append method is deprecated and will be removed from pandas in a future version. Use pandas.concat instead.\n",
      "  accuracy_dataframe = accuracy_dataframe.append(acc_dict, ignore_index=True)\n"
     ]
    },
    {
     "name": "stdout",
     "output_type": "stream",
     "text": [
      "{'PCA Status': 'Yes', 'Algorhythm': KNeighborsClassifier(n_neighbors=15), 'n_components': 90, 'Computation Time': 4.699244976043701, 'random_state': 15, 'Accuracy Score': 0.5166666666666667, 'F1 score': 0.5078142116859299}\n"
     ]
    },
    {
     "name": "stderr",
     "output_type": "stream",
     "text": [
      "/tmp/ipykernel_7097/1382974011.py:47: FutureWarning: The frame.append method is deprecated and will be removed from pandas in a future version. Use pandas.concat instead.\n",
      "  accuracy_dataframe = accuracy_dataframe.append(acc_dict, ignore_index=True)\n"
     ]
    },
    {
     "name": "stdout",
     "output_type": "stream",
     "text": [
      "{'PCA Status': 'Yes', 'Algorhythm': KNeighborsClassifier(n_neighbors=20), 'n_components': 90, 'Computation Time': 4.26642632484436, 'random_state': 20, 'Accuracy Score': 0.5, 'F1 score': 0.44811912225705325}\n"
     ]
    },
    {
     "name": "stderr",
     "output_type": "stream",
     "text": [
      "/tmp/ipykernel_7097/1382974011.py:47: FutureWarning: The frame.append method is deprecated and will be removed from pandas in a future version. Use pandas.concat instead.\n",
      "  accuracy_dataframe = accuracy_dataframe.append(acc_dict, ignore_index=True)\n"
     ]
    },
    {
     "name": "stdout",
     "output_type": "stream",
     "text": [
      "{'PCA Status': 'Yes', 'Algorhythm': KNeighborsClassifier(n_neighbors=2), 'n_components': 100, 'Computation Time': 4.427178382873535, 'random_state': 2, 'Accuracy Score': 0.5, 'F1 score': 0.48538461538461536}\n"
     ]
    },
    {
     "name": "stderr",
     "output_type": "stream",
     "text": [
      "/tmp/ipykernel_7097/1382974011.py:47: FutureWarning: The frame.append method is deprecated and will be removed from pandas in a future version. Use pandas.concat instead.\n",
      "  accuracy_dataframe = accuracy_dataframe.append(acc_dict, ignore_index=True)\n"
     ]
    },
    {
     "name": "stdout",
     "output_type": "stream",
     "text": [
      "{'PCA Status': 'Yes', 'Algorhythm': KNeighborsClassifier(n_neighbors=3), 'n_components': 100, 'Computation Time': 4.392991065979004, 'random_state': 3, 'Accuracy Score': 0.5666666666666667, 'F1 score': 0.5755973266499583}\n"
     ]
    },
    {
     "name": "stderr",
     "output_type": "stream",
     "text": [
      "/tmp/ipykernel_7097/1382974011.py:47: FutureWarning: The frame.append method is deprecated and will be removed from pandas in a future version. Use pandas.concat instead.\n",
      "  accuracy_dataframe = accuracy_dataframe.append(acc_dict, ignore_index=True)\n"
     ]
    },
    {
     "name": "stdout",
     "output_type": "stream",
     "text": [
      "{'PCA Status': 'Yes', 'Algorhythm': KNeighborsClassifier(), 'n_components': 100, 'Computation Time': 4.511033535003662, 'random_state': 5, 'Accuracy Score': 0.55, 'F1 score': 0.5334837092731829}\n"
     ]
    },
    {
     "name": "stderr",
     "output_type": "stream",
     "text": [
      "/tmp/ipykernel_7097/1382974011.py:47: FutureWarning: The frame.append method is deprecated and will be removed from pandas in a future version. Use pandas.concat instead.\n",
      "  accuracy_dataframe = accuracy_dataframe.append(acc_dict, ignore_index=True)\n"
     ]
    },
    {
     "name": "stdout",
     "output_type": "stream",
     "text": [
      "{'PCA Status': 'Yes', 'Algorhythm': KNeighborsClassifier(n_neighbors=8), 'n_components': 100, 'Computation Time': 5.214275121688843, 'random_state': 8, 'Accuracy Score': 0.5166666666666667, 'F1 score': 0.5014226090497277}\n"
     ]
    },
    {
     "name": "stderr",
     "output_type": "stream",
     "text": [
      "/tmp/ipykernel_7097/1382974011.py:47: FutureWarning: The frame.append method is deprecated and will be removed from pandas in a future version. Use pandas.concat instead.\n",
      "  accuracy_dataframe = accuracy_dataframe.append(acc_dict, ignore_index=True)\n"
     ]
    },
    {
     "name": "stdout",
     "output_type": "stream",
     "text": [
      "{'PCA Status': 'Yes', 'Algorhythm': KNeighborsClassifier(n_neighbors=10), 'n_components': 100, 'Computation Time': 5.2091896533966064, 'random_state': 10, 'Accuracy Score': 0.55, 'F1 score': 0.510475724991854}\n"
     ]
    },
    {
     "name": "stderr",
     "output_type": "stream",
     "text": [
      "/tmp/ipykernel_7097/1382974011.py:47: FutureWarning: The frame.append method is deprecated and will be removed from pandas in a future version. Use pandas.concat instead.\n",
      "  accuracy_dataframe = accuracy_dataframe.append(acc_dict, ignore_index=True)\n"
     ]
    },
    {
     "name": "stdout",
     "output_type": "stream",
     "text": [
      "{'PCA Status': 'Yes', 'Algorhythm': KNeighborsClassifier(n_neighbors=15), 'n_components': 100, 'Computation Time': 4.453738212585449, 'random_state': 15, 'Accuracy Score': 0.5166666666666667, 'F1 score': 0.5020316659660923}\n"
     ]
    },
    {
     "name": "stderr",
     "output_type": "stream",
     "text": [
      "/tmp/ipykernel_7097/1382974011.py:47: FutureWarning: The frame.append method is deprecated and will be removed from pandas in a future version. Use pandas.concat instead.\n",
      "  accuracy_dataframe = accuracy_dataframe.append(acc_dict, ignore_index=True)\n"
     ]
    },
    {
     "name": "stdout",
     "output_type": "stream",
     "text": [
      "{'PCA Status': 'Yes', 'Algorhythm': KNeighborsClassifier(n_neighbors=20), 'n_components': 100, 'Computation Time': 4.310697078704834, 'random_state': 20, 'Accuracy Score': 0.4666666666666667, 'F1 score': 0.446031746031746}\n"
     ]
    },
    {
     "name": "stderr",
     "output_type": "stream",
     "text": [
      "/tmp/ipykernel_7097/1382974011.py:47: FutureWarning: The frame.append method is deprecated and will be removed from pandas in a future version. Use pandas.concat instead.\n",
      "  accuracy_dataframe = accuracy_dataframe.append(acc_dict, ignore_index=True)\n"
     ]
    },
    {
     "name": "stdout",
     "output_type": "stream",
     "text": [
      "{'PCA Status': 'Yes', 'Algorhythm': KNeighborsClassifier(n_neighbors=2), 'n_components': 110, 'Computation Time': 4.8871009349823, 'random_state': 2, 'Accuracy Score': 0.6333333333333333, 'F1 score': 0.6477764177886577}\n"
     ]
    },
    {
     "name": "stderr",
     "output_type": "stream",
     "text": [
      "/tmp/ipykernel_7097/1382974011.py:47: FutureWarning: The frame.append method is deprecated and will be removed from pandas in a future version. Use pandas.concat instead.\n",
      "  accuracy_dataframe = accuracy_dataframe.append(acc_dict, ignore_index=True)\n"
     ]
    },
    {
     "name": "stdout",
     "output_type": "stream",
     "text": [
      "{'PCA Status': 'Yes', 'Algorhythm': KNeighborsClassifier(n_neighbors=3), 'n_components': 110, 'Computation Time': 4.537944793701172, 'random_state': 3, 'Accuracy Score': 0.7, 'F1 score': 0.698368536128634}\n"
     ]
    },
    {
     "name": "stderr",
     "output_type": "stream",
     "text": [
      "/tmp/ipykernel_7097/1382974011.py:47: FutureWarning: The frame.append method is deprecated and will be removed from pandas in a future version. Use pandas.concat instead.\n",
      "  accuracy_dataframe = accuracy_dataframe.append(acc_dict, ignore_index=True)\n"
     ]
    },
    {
     "name": "stdout",
     "output_type": "stream",
     "text": [
      "{'PCA Status': 'Yes', 'Algorhythm': KNeighborsClassifier(), 'n_components': 110, 'Computation Time': 4.373392105102539, 'random_state': 5, 'Accuracy Score': 0.5, 'F1 score': 0.49517589690003483}\n"
     ]
    },
    {
     "name": "stderr",
     "output_type": "stream",
     "text": [
      "/tmp/ipykernel_7097/1382974011.py:47: FutureWarning: The frame.append method is deprecated and will be removed from pandas in a future version. Use pandas.concat instead.\n",
      "  accuracy_dataframe = accuracy_dataframe.append(acc_dict, ignore_index=True)\n"
     ]
    },
    {
     "name": "stdout",
     "output_type": "stream",
     "text": [
      "{'PCA Status': 'Yes', 'Algorhythm': KNeighborsClassifier(n_neighbors=8), 'n_components': 110, 'Computation Time': 4.8507702350616455, 'random_state': 8, 'Accuracy Score': 0.6833333333333333, 'F1 score': 0.6678981937602626}\n"
     ]
    },
    {
     "name": "stderr",
     "output_type": "stream",
     "text": [
      "/tmp/ipykernel_7097/1382974011.py:47: FutureWarning: The frame.append method is deprecated and will be removed from pandas in a future version. Use pandas.concat instead.\n",
      "  accuracy_dataframe = accuracy_dataframe.append(acc_dict, ignore_index=True)\n"
     ]
    },
    {
     "name": "stdout",
     "output_type": "stream",
     "text": [
      "{'PCA Status': 'Yes', 'Algorhythm': KNeighborsClassifier(n_neighbors=10), 'n_components': 110, 'Computation Time': 4.7038254737854, 'random_state': 10, 'Accuracy Score': 0.6166666666666667, 'F1 score': 0.5946455505279036}\n"
     ]
    },
    {
     "name": "stderr",
     "output_type": "stream",
     "text": [
      "/tmp/ipykernel_7097/1382974011.py:47: FutureWarning: The frame.append method is deprecated and will be removed from pandas in a future version. Use pandas.concat instead.\n",
      "  accuracy_dataframe = accuracy_dataframe.append(acc_dict, ignore_index=True)\n"
     ]
    },
    {
     "name": "stdout",
     "output_type": "stream",
     "text": [
      "{'PCA Status': 'Yes', 'Algorhythm': KNeighborsClassifier(n_neighbors=15), 'n_components': 110, 'Computation Time': 4.888450384140015, 'random_state': 15, 'Accuracy Score': 0.45, 'F1 score': 0.42035426908308265}\n"
     ]
    },
    {
     "name": "stderr",
     "output_type": "stream",
     "text": [
      "/tmp/ipykernel_7097/1382974011.py:47: FutureWarning: The frame.append method is deprecated and will be removed from pandas in a future version. Use pandas.concat instead.\n",
      "  accuracy_dataframe = accuracy_dataframe.append(acc_dict, ignore_index=True)\n"
     ]
    },
    {
     "name": "stdout",
     "output_type": "stream",
     "text": [
      "{'PCA Status': 'Yes', 'Algorhythm': KNeighborsClassifier(n_neighbors=20), 'n_components': 110, 'Computation Time': 4.350735187530518, 'random_state': 20, 'Accuracy Score': 0.6, 'F1 score': 0.5815719455087272}\n"
     ]
    },
    {
     "name": "stderr",
     "output_type": "stream",
     "text": [
      "/tmp/ipykernel_7097/1382974011.py:47: FutureWarning: The frame.append method is deprecated and will be removed from pandas in a future version. Use pandas.concat instead.\n",
      "  accuracy_dataframe = accuracy_dataframe.append(acc_dict, ignore_index=True)\n"
     ]
    },
    {
     "name": "stdout",
     "output_type": "stream",
     "text": [
      "{'PCA Status': 'Yes', 'Algorhythm': KNeighborsClassifier(n_neighbors=2), 'n_components': 120, 'Computation Time': 4.956013441085815, 'random_state': 2, 'Accuracy Score': 0.7333333333333333, 'F1 score': 0.7346993981199702}\n"
     ]
    },
    {
     "name": "stderr",
     "output_type": "stream",
     "text": [
      "/tmp/ipykernel_7097/1382974011.py:47: FutureWarning: The frame.append method is deprecated and will be removed from pandas in a future version. Use pandas.concat instead.\n",
      "  accuracy_dataframe = accuracy_dataframe.append(acc_dict, ignore_index=True)\n"
     ]
    },
    {
     "name": "stdout",
     "output_type": "stream",
     "text": [
      "{'PCA Status': 'Yes', 'Algorhythm': KNeighborsClassifier(n_neighbors=3), 'n_components': 120, 'Computation Time': 4.250274658203125, 'random_state': 3, 'Accuracy Score': 0.5166666666666667, 'F1 score': 0.5111721132897603}\n"
     ]
    },
    {
     "name": "stderr",
     "output_type": "stream",
     "text": [
      "/tmp/ipykernel_7097/1382974011.py:47: FutureWarning: The frame.append method is deprecated and will be removed from pandas in a future version. Use pandas.concat instead.\n",
      "  accuracy_dataframe = accuracy_dataframe.append(acc_dict, ignore_index=True)\n"
     ]
    },
    {
     "name": "stdout",
     "output_type": "stream",
     "text": [
      "{'PCA Status': 'Yes', 'Algorhythm': KNeighborsClassifier(), 'n_components': 120, 'Computation Time': 6.858550786972046, 'random_state': 5, 'Accuracy Score': 0.6, 'F1 score': 0.5686531986531986}\n"
     ]
    },
    {
     "name": "stderr",
     "output_type": "stream",
     "text": [
      "/tmp/ipykernel_7097/1382974011.py:47: FutureWarning: The frame.append method is deprecated and will be removed from pandas in a future version. Use pandas.concat instead.\n",
      "  accuracy_dataframe = accuracy_dataframe.append(acc_dict, ignore_index=True)\n"
     ]
    },
    {
     "name": "stdout",
     "output_type": "stream",
     "text": [
      "{'PCA Status': 'Yes', 'Algorhythm': KNeighborsClassifier(n_neighbors=8), 'n_components': 120, 'Computation Time': 7.49130654335022, 'random_state': 8, 'Accuracy Score': 0.6166666666666667, 'F1 score': 0.595072463768116}\n"
     ]
    },
    {
     "name": "stderr",
     "output_type": "stream",
     "text": [
      "/tmp/ipykernel_7097/1382974011.py:47: FutureWarning: The frame.append method is deprecated and will be removed from pandas in a future version. Use pandas.concat instead.\n",
      "  accuracy_dataframe = accuracy_dataframe.append(acc_dict, ignore_index=True)\n"
     ]
    },
    {
     "name": "stdout",
     "output_type": "stream",
     "text": [
      "{'PCA Status': 'Yes', 'Algorhythm': KNeighborsClassifier(n_neighbors=10), 'n_components': 120, 'Computation Time': 7.3783369064331055, 'random_state': 10, 'Accuracy Score': 0.5333333333333333, 'F1 score': 0.5049111713339356}\n"
     ]
    },
    {
     "name": "stderr",
     "output_type": "stream",
     "text": [
      "/tmp/ipykernel_7097/1382974011.py:47: FutureWarning: The frame.append method is deprecated and will be removed from pandas in a future version. Use pandas.concat instead.\n",
      "  accuracy_dataframe = accuracy_dataframe.append(acc_dict, ignore_index=True)\n"
     ]
    },
    {
     "name": "stdout",
     "output_type": "stream",
     "text": [
      "{'PCA Status': 'Yes', 'Algorhythm': KNeighborsClassifier(n_neighbors=15), 'n_components': 120, 'Computation Time': 7.4126081466674805, 'random_state': 15, 'Accuracy Score': 0.48333333333333334, 'F1 score': 0.46494708994708994}\n"
     ]
    },
    {
     "name": "stderr",
     "output_type": "stream",
     "text": [
      "/tmp/ipykernel_7097/1382974011.py:47: FutureWarning: The frame.append method is deprecated and will be removed from pandas in a future version. Use pandas.concat instead.\n",
      "  accuracy_dataframe = accuracy_dataframe.append(acc_dict, ignore_index=True)\n"
     ]
    },
    {
     "name": "stdout",
     "output_type": "stream",
     "text": [
      "{'PCA Status': 'Yes', 'Algorhythm': KNeighborsClassifier(n_neighbors=20), 'n_components': 120, 'Computation Time': 7.129564523696899, 'random_state': 20, 'Accuracy Score': 0.6, 'F1 score': 0.5814804929836423}\n"
     ]
    },
    {
     "name": "stderr",
     "output_type": "stream",
     "text": [
      "/tmp/ipykernel_7097/1382974011.py:47: FutureWarning: The frame.append method is deprecated and will be removed from pandas in a future version. Use pandas.concat instead.\n",
      "  accuracy_dataframe = accuracy_dataframe.append(acc_dict, ignore_index=True)\n"
     ]
    },
    {
     "name": "stdout",
     "output_type": "stream",
     "text": [
      "{'PCA Status': 'Yes', 'Algorhythm': KNeighborsClassifier(n_neighbors=2), 'n_components': 130, 'Computation Time': 8.202215671539307, 'random_state': 2, 'Accuracy Score': 0.45, 'F1 score': 0.42053768761339266}\n"
     ]
    },
    {
     "name": "stderr",
     "output_type": "stream",
     "text": [
      "/tmp/ipykernel_7097/1382974011.py:47: FutureWarning: The frame.append method is deprecated and will be removed from pandas in a future version. Use pandas.concat instead.\n",
      "  accuracy_dataframe = accuracy_dataframe.append(acc_dict, ignore_index=True)\n"
     ]
    },
    {
     "name": "stdout",
     "output_type": "stream",
     "text": [
      "{'PCA Status': 'Yes', 'Algorhythm': KNeighborsClassifier(n_neighbors=3), 'n_components': 130, 'Computation Time': 8.594403266906738, 'random_state': 3, 'Accuracy Score': 0.6333333333333333, 'F1 score': 0.6307977207977209}\n"
     ]
    },
    {
     "name": "stderr",
     "output_type": "stream",
     "text": [
      "/tmp/ipykernel_7097/1382974011.py:47: FutureWarning: The frame.append method is deprecated and will be removed from pandas in a future version. Use pandas.concat instead.\n",
      "  accuracy_dataframe = accuracy_dataframe.append(acc_dict, ignore_index=True)\n"
     ]
    },
    {
     "name": "stdout",
     "output_type": "stream",
     "text": [
      "{'PCA Status': 'Yes', 'Algorhythm': KNeighborsClassifier(), 'n_components': 130, 'Computation Time': 7.99226713180542, 'random_state': 5, 'Accuracy Score': 0.65, 'F1 score': 0.6397010238050373}\n"
     ]
    },
    {
     "name": "stderr",
     "output_type": "stream",
     "text": [
      "/tmp/ipykernel_7097/1382974011.py:47: FutureWarning: The frame.append method is deprecated and will be removed from pandas in a future version. Use pandas.concat instead.\n",
      "  accuracy_dataframe = accuracy_dataframe.append(acc_dict, ignore_index=True)\n"
     ]
    },
    {
     "name": "stdout",
     "output_type": "stream",
     "text": [
      "{'PCA Status': 'Yes', 'Algorhythm': KNeighborsClassifier(n_neighbors=8), 'n_components': 130, 'Computation Time': 7.533873081207275, 'random_state': 8, 'Accuracy Score': 0.55, 'F1 score': 0.5313606000234384}\n"
     ]
    },
    {
     "name": "stderr",
     "output_type": "stream",
     "text": [
      "/tmp/ipykernel_7097/1382974011.py:47: FutureWarning: The frame.append method is deprecated and will be removed from pandas in a future version. Use pandas.concat instead.\n",
      "  accuracy_dataframe = accuracy_dataframe.append(acc_dict, ignore_index=True)\n"
     ]
    },
    {
     "name": "stdout",
     "output_type": "stream",
     "text": [
      "{'PCA Status': 'Yes', 'Algorhythm': KNeighborsClassifier(n_neighbors=10), 'n_components': 130, 'Computation Time': 7.9443519115448, 'random_state': 10, 'Accuracy Score': 0.5666666666666667, 'F1 score': 0.5528546553756637}\n"
     ]
    },
    {
     "name": "stderr",
     "output_type": "stream",
     "text": [
      "/tmp/ipykernel_7097/1382974011.py:47: FutureWarning: The frame.append method is deprecated and will be removed from pandas in a future version. Use pandas.concat instead.\n",
      "  accuracy_dataframe = accuracy_dataframe.append(acc_dict, ignore_index=True)\n"
     ]
    },
    {
     "name": "stdout",
     "output_type": "stream",
     "text": [
      "{'PCA Status': 'Yes', 'Algorhythm': KNeighborsClassifier(n_neighbors=15), 'n_components': 130, 'Computation Time': 8.563653707504272, 'random_state': 15, 'Accuracy Score': 0.5, 'F1 score': 0.4601035576445413}\n"
     ]
    },
    {
     "name": "stderr",
     "output_type": "stream",
     "text": [
      "/tmp/ipykernel_7097/1382974011.py:47: FutureWarning: The frame.append method is deprecated and will be removed from pandas in a future version. Use pandas.concat instead.\n",
      "  accuracy_dataframe = accuracy_dataframe.append(acc_dict, ignore_index=True)\n"
     ]
    },
    {
     "name": "stdout",
     "output_type": "stream",
     "text": [
      "{'PCA Status': 'Yes', 'Algorhythm': KNeighborsClassifier(n_neighbors=20), 'n_components': 130, 'Computation Time': 7.6988630294799805, 'random_state': 20, 'Accuracy Score': 0.4166666666666667, 'F1 score': 0.39556128408587427}\n"
     ]
    },
    {
     "name": "stderr",
     "output_type": "stream",
     "text": [
      "/tmp/ipykernel_7097/1382974011.py:47: FutureWarning: The frame.append method is deprecated and will be removed from pandas in a future version. Use pandas.concat instead.\n",
      "  accuracy_dataframe = accuracy_dataframe.append(acc_dict, ignore_index=True)\n"
     ]
    },
    {
     "name": "stdout",
     "output_type": "stream",
     "text": [
      "{'PCA Status': 'Yes', 'Algorhythm': KNeighborsClassifier(n_neighbors=2), 'n_components': 140, 'Computation Time': 8.35642695426941, 'random_state': 2, 'Accuracy Score': 0.6166666666666667, 'F1 score': 0.6067615848130965}\n"
     ]
    },
    {
     "name": "stderr",
     "output_type": "stream",
     "text": [
      "/tmp/ipykernel_7097/1382974011.py:47: FutureWarning: The frame.append method is deprecated and will be removed from pandas in a future version. Use pandas.concat instead.\n",
      "  accuracy_dataframe = accuracy_dataframe.append(acc_dict, ignore_index=True)\n"
     ]
    },
    {
     "name": "stdout",
     "output_type": "stream",
     "text": [
      "{'PCA Status': 'Yes', 'Algorhythm': KNeighborsClassifier(n_neighbors=3), 'n_components': 140, 'Computation Time': 9.17896556854248, 'random_state': 3, 'Accuracy Score': 0.65, 'F1 score': 0.6400657008086253}\n"
     ]
    },
    {
     "name": "stderr",
     "output_type": "stream",
     "text": [
      "/tmp/ipykernel_7097/1382974011.py:47: FutureWarning: The frame.append method is deprecated and will be removed from pandas in a future version. Use pandas.concat instead.\n",
      "  accuracy_dataframe = accuracy_dataframe.append(acc_dict, ignore_index=True)\n"
     ]
    },
    {
     "name": "stdout",
     "output_type": "stream",
     "text": [
      "{'PCA Status': 'Yes', 'Algorhythm': KNeighborsClassifier(), 'n_components': 140, 'Computation Time': 8.36339783668518, 'random_state': 5, 'Accuracy Score': 0.55, 'F1 score': 0.5460030165912518}\n"
     ]
    },
    {
     "name": "stderr",
     "output_type": "stream",
     "text": [
      "/tmp/ipykernel_7097/1382974011.py:47: FutureWarning: The frame.append method is deprecated and will be removed from pandas in a future version. Use pandas.concat instead.\n",
      "  accuracy_dataframe = accuracy_dataframe.append(acc_dict, ignore_index=True)\n"
     ]
    },
    {
     "name": "stdout",
     "output_type": "stream",
     "text": [
      "{'PCA Status': 'Yes', 'Algorhythm': KNeighborsClassifier(n_neighbors=8), 'n_components': 140, 'Computation Time': 8.781391620635986, 'random_state': 8, 'Accuracy Score': 0.5333333333333333, 'F1 score': 0.5109155871450953}\n"
     ]
    },
    {
     "name": "stderr",
     "output_type": "stream",
     "text": [
      "/tmp/ipykernel_7097/1382974011.py:47: FutureWarning: The frame.append method is deprecated and will be removed from pandas in a future version. Use pandas.concat instead.\n",
      "  accuracy_dataframe = accuracy_dataframe.append(acc_dict, ignore_index=True)\n"
     ]
    },
    {
     "name": "stdout",
     "output_type": "stream",
     "text": [
      "{'PCA Status': 'Yes', 'Algorhythm': KNeighborsClassifier(n_neighbors=10), 'n_components': 140, 'Computation Time': 9.187625646591187, 'random_state': 10, 'Accuracy Score': 0.5, 'F1 score': 0.48035330261136716}\n"
     ]
    },
    {
     "name": "stderr",
     "output_type": "stream",
     "text": [
      "/tmp/ipykernel_7097/1382974011.py:47: FutureWarning: The frame.append method is deprecated and will be removed from pandas in a future version. Use pandas.concat instead.\n",
      "  accuracy_dataframe = accuracy_dataframe.append(acc_dict, ignore_index=True)\n"
     ]
    },
    {
     "name": "stdout",
     "output_type": "stream",
     "text": [
      "{'PCA Status': 'Yes', 'Algorhythm': KNeighborsClassifier(n_neighbors=15), 'n_components': 140, 'Computation Time': 8.782717227935791, 'random_state': 15, 'Accuracy Score': 0.43333333333333335, 'F1 score': 0.39459963403052833}\n"
     ]
    },
    {
     "name": "stderr",
     "output_type": "stream",
     "text": [
      "/tmp/ipykernel_7097/1382974011.py:47: FutureWarning: The frame.append method is deprecated and will be removed from pandas in a future version. Use pandas.concat instead.\n",
      "  accuracy_dataframe = accuracy_dataframe.append(acc_dict, ignore_index=True)\n"
     ]
    },
    {
     "name": "stdout",
     "output_type": "stream",
     "text": [
      "{'PCA Status': 'Yes', 'Algorhythm': KNeighborsClassifier(n_neighbors=20), 'n_components': 140, 'Computation Time': 9.088987827301025, 'random_state': 20, 'Accuracy Score': 0.48333333333333334, 'F1 score': 0.44360812425328555}\n"
     ]
    },
    {
     "name": "stderr",
     "output_type": "stream",
     "text": [
      "/tmp/ipykernel_7097/1382974011.py:47: FutureWarning: The frame.append method is deprecated and will be removed from pandas in a future version. Use pandas.concat instead.\n",
      "  accuracy_dataframe = accuracy_dataframe.append(acc_dict, ignore_index=True)\n"
     ]
    },
    {
     "name": "stdout",
     "output_type": "stream",
     "text": [
      "{'PCA Status': 'Yes', 'Algorhythm': KNeighborsClassifier(n_neighbors=2), 'n_components': 150, 'Computation Time': 10.97328805923462, 'random_state': 2, 'Accuracy Score': 0.7, 'F1 score': 0.6934385299111155}\n"
     ]
    },
    {
     "name": "stderr",
     "output_type": "stream",
     "text": [
      "/tmp/ipykernel_7097/1382974011.py:47: FutureWarning: The frame.append method is deprecated and will be removed from pandas in a future version. Use pandas.concat instead.\n",
      "  accuracy_dataframe = accuracy_dataframe.append(acc_dict, ignore_index=True)\n"
     ]
    },
    {
     "name": "stdout",
     "output_type": "stream",
     "text": [
      "{'PCA Status': 'Yes', 'Algorhythm': KNeighborsClassifier(n_neighbors=3), 'n_components': 150, 'Computation Time': 10.62169599533081, 'random_state': 3, 'Accuracy Score': 0.5833333333333334, 'F1 score': 0.5720800889877642}\n"
     ]
    },
    {
     "name": "stderr",
     "output_type": "stream",
     "text": [
      "/tmp/ipykernel_7097/1382974011.py:47: FutureWarning: The frame.append method is deprecated and will be removed from pandas in a future version. Use pandas.concat instead.\n",
      "  accuracy_dataframe = accuracy_dataframe.append(acc_dict, ignore_index=True)\n"
     ]
    },
    {
     "name": "stdout",
     "output_type": "stream",
     "text": [
      "{'PCA Status': 'Yes', 'Algorhythm': KNeighborsClassifier(), 'n_components': 150, 'Computation Time': 9.904112577438354, 'random_state': 5, 'Accuracy Score': 0.6166666666666667, 'F1 score': 0.5931911591233626}\n"
     ]
    },
    {
     "name": "stderr",
     "output_type": "stream",
     "text": [
      "/tmp/ipykernel_7097/1382974011.py:47: FutureWarning: The frame.append method is deprecated and will be removed from pandas in a future version. Use pandas.concat instead.\n",
      "  accuracy_dataframe = accuracy_dataframe.append(acc_dict, ignore_index=True)\n"
     ]
    },
    {
     "name": "stdout",
     "output_type": "stream",
     "text": [
      "{'PCA Status': 'Yes', 'Algorhythm': KNeighborsClassifier(n_neighbors=8), 'n_components': 150, 'Computation Time': 9.814388990402222, 'random_state': 8, 'Accuracy Score': 0.5833333333333334, 'F1 score': 0.571281512605042}\n"
     ]
    },
    {
     "name": "stderr",
     "output_type": "stream",
     "text": [
      "/tmp/ipykernel_7097/1382974011.py:47: FutureWarning: The frame.append method is deprecated and will be removed from pandas in a future version. Use pandas.concat instead.\n",
      "  accuracy_dataframe = accuracy_dataframe.append(acc_dict, ignore_index=True)\n"
     ]
    },
    {
     "name": "stdout",
     "output_type": "stream",
     "text": [
      "{'PCA Status': 'Yes', 'Algorhythm': KNeighborsClassifier(n_neighbors=10), 'n_components': 150, 'Computation Time': 10.303224563598633, 'random_state': 10, 'Accuracy Score': 0.6, 'F1 score': 0.5755731523378582}\n"
     ]
    },
    {
     "name": "stderr",
     "output_type": "stream",
     "text": [
      "/tmp/ipykernel_7097/1382974011.py:47: FutureWarning: The frame.append method is deprecated and will be removed from pandas in a future version. Use pandas.concat instead.\n",
      "  accuracy_dataframe = accuracy_dataframe.append(acc_dict, ignore_index=True)\n"
     ]
    },
    {
     "name": "stdout",
     "output_type": "stream",
     "text": [
      "{'PCA Status': 'Yes', 'Algorhythm': KNeighborsClassifier(n_neighbors=15), 'n_components': 150, 'Computation Time': 9.791140794754028, 'random_state': 15, 'Accuracy Score': 0.5666666666666667, 'F1 score': 0.5246453827098988}\n"
     ]
    },
    {
     "name": "stderr",
     "output_type": "stream",
     "text": [
      "/tmp/ipykernel_7097/1382974011.py:47: FutureWarning: The frame.append method is deprecated and will be removed from pandas in a future version. Use pandas.concat instead.\n",
      "  accuracy_dataframe = accuracy_dataframe.append(acc_dict, ignore_index=True)\n"
     ]
    },
    {
     "name": "stdout",
     "output_type": "stream",
     "text": [
      "{'PCA Status': 'Yes', 'Algorhythm': KNeighborsClassifier(n_neighbors=20), 'n_components': 150, 'Computation Time': 9.048416137695312, 'random_state': 20, 'Accuracy Score': 0.45, 'F1 score': 0.41000199740337556}\n"
     ]
    },
    {
     "name": "stderr",
     "output_type": "stream",
     "text": [
      "/tmp/ipykernel_7097/1382974011.py:47: FutureWarning: The frame.append method is deprecated and will be removed from pandas in a future version. Use pandas.concat instead.\n",
      "  accuracy_dataframe = accuracy_dataframe.append(acc_dict, ignore_index=True)\n"
     ]
    },
    {
     "name": "stdout",
     "output_type": "stream",
     "text": [
      "{'PCA Status': 'Yes', 'Algorhythm': KNeighborsClassifier(n_neighbors=2), 'n_components': 200, 'Computation Time': 3.7228212356567383, 'random_state': 2, 'Accuracy Score': 0.5666666666666667, 'F1 score': 0.5666452514596154}\n"
     ]
    },
    {
     "name": "stderr",
     "output_type": "stream",
     "text": [
      "/tmp/ipykernel_7097/1382974011.py:47: FutureWarning: The frame.append method is deprecated and will be removed from pandas in a future version. Use pandas.concat instead.\n",
      "  accuracy_dataframe = accuracy_dataframe.append(acc_dict, ignore_index=True)\n"
     ]
    },
    {
     "name": "stdout",
     "output_type": "stream",
     "text": [
      "{'PCA Status': 'Yes', 'Algorhythm': KNeighborsClassifier(n_neighbors=3), 'n_components': 200, 'Computation Time': 3.7203822135925293, 'random_state': 3, 'Accuracy Score': 0.6166666666666667, 'F1 score': 0.6044243891701518}\n"
     ]
    },
    {
     "name": "stderr",
     "output_type": "stream",
     "text": [
      "/tmp/ipykernel_7097/1382974011.py:47: FutureWarning: The frame.append method is deprecated and will be removed from pandas in a future version. Use pandas.concat instead.\n",
      "  accuracy_dataframe = accuracy_dataframe.append(acc_dict, ignore_index=True)\n"
     ]
    },
    {
     "name": "stdout",
     "output_type": "stream",
     "text": [
      "{'PCA Status': 'Yes', 'Algorhythm': KNeighborsClassifier(), 'n_components': 200, 'Computation Time': 4.204406261444092, 'random_state': 5, 'Accuracy Score': 0.5166666666666667, 'F1 score': 0.5235175202156335}\n"
     ]
    },
    {
     "name": "stderr",
     "output_type": "stream",
     "text": [
      "/tmp/ipykernel_7097/1382974011.py:47: FutureWarning: The frame.append method is deprecated and will be removed from pandas in a future version. Use pandas.concat instead.\n",
      "  accuracy_dataframe = accuracy_dataframe.append(acc_dict, ignore_index=True)\n"
     ]
    },
    {
     "name": "stdout",
     "output_type": "stream",
     "text": [
      "{'PCA Status': 'Yes', 'Algorhythm': KNeighborsClassifier(n_neighbors=8), 'n_components': 200, 'Computation Time': 4.1165525913238525, 'random_state': 8, 'Accuracy Score': 0.55, 'F1 score': 0.5412121212121213}\n"
     ]
    },
    {
     "name": "stderr",
     "output_type": "stream",
     "text": [
      "/tmp/ipykernel_7097/1382974011.py:47: FutureWarning: The frame.append method is deprecated and will be removed from pandas in a future version. Use pandas.concat instead.\n",
      "  accuracy_dataframe = accuracy_dataframe.append(acc_dict, ignore_index=True)\n"
     ]
    },
    {
     "name": "stdout",
     "output_type": "stream",
     "text": [
      "{'PCA Status': 'Yes', 'Algorhythm': KNeighborsClassifier(n_neighbors=10), 'n_components': 200, 'Computation Time': 4.0451600551605225, 'random_state': 10, 'Accuracy Score': 0.6, 'F1 score': 0.5918328584995252}\n"
     ]
    },
    {
     "name": "stderr",
     "output_type": "stream",
     "text": [
      "/tmp/ipykernel_7097/1382974011.py:47: FutureWarning: The frame.append method is deprecated and will be removed from pandas in a future version. Use pandas.concat instead.\n",
      "  accuracy_dataframe = accuracy_dataframe.append(acc_dict, ignore_index=True)\n"
     ]
    },
    {
     "name": "stdout",
     "output_type": "stream",
     "text": [
      "{'PCA Status': 'Yes', 'Algorhythm': KNeighborsClassifier(n_neighbors=15), 'n_components': 200, 'Computation Time': 3.759143114089966, 'random_state': 15, 'Accuracy Score': 0.5166666666666667, 'F1 score': 0.5113095238095239}\n"
     ]
    },
    {
     "name": "stderr",
     "output_type": "stream",
     "text": [
      "/tmp/ipykernel_7097/1382974011.py:47: FutureWarning: The frame.append method is deprecated and will be removed from pandas in a future version. Use pandas.concat instead.\n",
      "  accuracy_dataframe = accuracy_dataframe.append(acc_dict, ignore_index=True)\n"
     ]
    },
    {
     "name": "stdout",
     "output_type": "stream",
     "text": [
      "{'PCA Status': 'Yes', 'Algorhythm': KNeighborsClassifier(n_neighbors=20), 'n_components': 200, 'Computation Time': 4.03344202041626, 'random_state': 20, 'Accuracy Score': 0.43333333333333335, 'F1 score': 0.42060606060606065}\n"
     ]
    },
    {
     "name": "stderr",
     "output_type": "stream",
     "text": [
      "/tmp/ipykernel_7097/1382974011.py:47: FutureWarning: The frame.append method is deprecated and will be removed from pandas in a future version. Use pandas.concat instead.\n",
      "  accuracy_dataframe = accuracy_dataframe.append(acc_dict, ignore_index=True)\n"
     ]
    },
    {
     "name": "stdout",
     "output_type": "stream",
     "text": [
      "{'PCA Status': 'Yes', 'Algorhythm': KNeighborsClassifier(n_neighbors=2), 'n_components': 240, 'Computation Time': 4.108896970748901, 'random_state': 2, 'Accuracy Score': 0.65, 'F1 score': 0.6540199335548172}\n"
     ]
    },
    {
     "name": "stderr",
     "output_type": "stream",
     "text": [
      "/tmp/ipykernel_7097/1382974011.py:47: FutureWarning: The frame.append method is deprecated and will be removed from pandas in a future version. Use pandas.concat instead.\n",
      "  accuracy_dataframe = accuracy_dataframe.append(acc_dict, ignore_index=True)\n"
     ]
    },
    {
     "name": "stdout",
     "output_type": "stream",
     "text": [
      "{'PCA Status': 'Yes', 'Algorhythm': KNeighborsClassifier(n_neighbors=3), 'n_components': 240, 'Computation Time': 4.379700660705566, 'random_state': 3, 'Accuracy Score': 0.6, 'F1 score': 0.5934294871794871}\n"
     ]
    },
    {
     "name": "stderr",
     "output_type": "stream",
     "text": [
      "/tmp/ipykernel_7097/1382974011.py:47: FutureWarning: The frame.append method is deprecated and will be removed from pandas in a future version. Use pandas.concat instead.\n",
      "  accuracy_dataframe = accuracy_dataframe.append(acc_dict, ignore_index=True)\n"
     ]
    },
    {
     "name": "stdout",
     "output_type": "stream",
     "text": [
      "{'PCA Status': 'Yes', 'Algorhythm': KNeighborsClassifier(), 'n_components': 240, 'Computation Time': 4.507622003555298, 'random_state': 5, 'Accuracy Score': 0.5666666666666667, 'F1 score': 0.5566219091642821}\n"
     ]
    },
    {
     "name": "stderr",
     "output_type": "stream",
     "text": [
      "/tmp/ipykernel_7097/1382974011.py:47: FutureWarning: The frame.append method is deprecated and will be removed from pandas in a future version. Use pandas.concat instead.\n",
      "  accuracy_dataframe = accuracy_dataframe.append(acc_dict, ignore_index=True)\n"
     ]
    },
    {
     "name": "stdout",
     "output_type": "stream",
     "text": [
      "{'PCA Status': 'Yes', 'Algorhythm': KNeighborsClassifier(n_neighbors=8), 'n_components': 240, 'Computation Time': 4.190288305282593, 'random_state': 8, 'Accuracy Score': 0.4666666666666667, 'F1 score': 0.4133928571428571}\n"
     ]
    },
    {
     "name": "stderr",
     "output_type": "stream",
     "text": [
      "/tmp/ipykernel_7097/1382974011.py:47: FutureWarning: The frame.append method is deprecated and will be removed from pandas in a future version. Use pandas.concat instead.\n",
      "  accuracy_dataframe = accuracy_dataframe.append(acc_dict, ignore_index=True)\n"
     ]
    },
    {
     "name": "stdout",
     "output_type": "stream",
     "text": [
      "{'PCA Status': 'Yes', 'Algorhythm': KNeighborsClassifier(n_neighbors=10), 'n_components': 240, 'Computation Time': 4.142566204071045, 'random_state': 10, 'Accuracy Score': 0.48333333333333334, 'F1 score': 0.45149304100917004}\n"
     ]
    },
    {
     "name": "stderr",
     "output_type": "stream",
     "text": [
      "/tmp/ipykernel_7097/1382974011.py:47: FutureWarning: The frame.append method is deprecated and will be removed from pandas in a future version. Use pandas.concat instead.\n",
      "  accuracy_dataframe = accuracy_dataframe.append(acc_dict, ignore_index=True)\n"
     ]
    },
    {
     "name": "stdout",
     "output_type": "stream",
     "text": [
      "{'PCA Status': 'Yes', 'Algorhythm': KNeighborsClassifier(n_neighbors=15), 'n_components': 240, 'Computation Time': 4.442525148391724, 'random_state': 15, 'Accuracy Score': 0.43333333333333335, 'F1 score': 0.3940858378870674}\n"
     ]
    },
    {
     "name": "stderr",
     "output_type": "stream",
     "text": [
      "/tmp/ipykernel_7097/1382974011.py:47: FutureWarning: The frame.append method is deprecated and will be removed from pandas in a future version. Use pandas.concat instead.\n",
      "  accuracy_dataframe = accuracy_dataframe.append(acc_dict, ignore_index=True)\n"
     ]
    },
    {
     "name": "stdout",
     "output_type": "stream",
     "text": [
      "{'PCA Status': 'Yes', 'Algorhythm': KNeighborsClassifier(n_neighbors=20), 'n_components': 240, 'Computation Time': 4.475320816040039, 'random_state': 20, 'Accuracy Score': 0.5, 'F1 score': 0.46973826889931397}\n"
     ]
    },
    {
     "name": "stderr",
     "output_type": "stream",
     "text": [
      "/tmp/ipykernel_7097/1382974011.py:47: FutureWarning: The frame.append method is deprecated and will be removed from pandas in a future version. Use pandas.concat instead.\n",
      "  accuracy_dataframe = accuracy_dataframe.append(acc_dict, ignore_index=True)\n"
     ]
    }
   ],
   "source": [
    "# --- With PCA: KNN ---\n",
    "\n",
    "models = [KNN()]\n",
    "n_comps = [10, 20, 30, 40, 50, 60, 70, 80, 90, 100, 110, 120, 130, 140, 150, 200, 240]\n",
    "ks = [2, 3, 5, 8, 10, 15, 20]\n",
    "\n",
    "for i in models:\n",
    "    for j in n_comps:\n",
    "        for k in ks:\n",
    "\n",
    "            # Storing all the values in this empty dictionary\n",
    "            acc_dict = {}\n",
    "            \n",
    "            # applying PCA on the features\n",
    "            X = data\n",
    "            y = target\n",
    "            \n",
    "            # Starting the time counter\n",
    "            start_time = time.time()\n",
    "            \n",
    "            pca = PCA(n_components = j)\n",
    "            pca.fit_transform(X)\n",
    "\n",
    "            # Model Training \n",
    "            i.set_params(n_neighbors = k)\n",
    "\n",
    "            # Data Splitting\n",
    "            X_train, X_test, y_train, y_test = train_test_split(X, y)\n",
    "            # Model Training\n",
    "            i.fit(X_train, y_train)\n",
    "\n",
    "            # Ending the time counter\n",
    "            time_taken = time.time() - start_time\n",
    "\n",
    "            # Prediction\n",
    "            y_pred = i.predict(X_test)\n",
    "            \n",
    "            acc_dict['PCA Status'] = 'Yes'\n",
    "            acc_dict['Algorhythm'] = i\n",
    "            acc_dict['n_components'] = j\n",
    "            acc_dict['Computation Time'] = time_taken\n",
    "            acc_dict['random_state'] = k\n",
    "            acc_dict['Accuracy Score'] = accuracy_score(y_test, y_pred)\n",
    "            acc_dict['F1 score'] = f1_score(y_test, y_pred, average='weighted')\n",
    "            print(acc_dict)\n",
    "\n",
    "            accuracy_dataframe = accuracy_dataframe.append(acc_dict, ignore_index=True)"
   ]
  },
  {
   "cell_type": "code",
   "execution_count": 16,
   "metadata": {},
   "outputs": [],
   "source": [
    "accuracy_dataframe.to_excel('Accuracy_wPCA_2.xlsx', index = False)"
   ]
  },
  {
   "cell_type": "code",
   "execution_count": null,
   "metadata": {},
   "outputs": [],
   "source": []
  }
 ],
 "metadata": {
  "kernelspec": {
   "display_name": "Python 3 (ipykernel)",
   "language": "python",
   "name": "python3"
  },
  "language_info": {
   "codemirror_mode": {
    "name": "ipython",
    "version": 3
   },
   "file_extension": ".py",
   "mimetype": "text/x-python",
   "name": "python",
   "nbconvert_exporter": "python",
   "pygments_lexer": "ipython3",
   "version": "3.11.1"
  }
 },
 "nbformat": 4,
 "nbformat_minor": 2
}
