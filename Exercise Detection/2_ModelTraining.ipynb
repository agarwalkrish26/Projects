{
 "cells": [
  {
   "cell_type": "markdown",
   "metadata": {},
   "source": [
    "## LogisticRegression, DecisionTreeClassifier and RandomForestClassifier with PCA"
   ]
  },
  {
   "cell_type": "code",
   "execution_count": 1,
   "metadata": {},
   "outputs": [],
   "source": [
    "# Importing the target data\n",
    "with open('/media/hpc-lavasa/Data/krish21112016/abc/exercise_target.txt', 'r') as f:\n",
    "    target = f.readlines()\n",
    "\n",
    "# Extracting the target data from jibberish\n",
    "for i in range(len(target)):\n",
    "    target[i] = target[i][0]"
   ]
  },
  {
   "cell_type": "code",
   "execution_count": 2,
   "metadata": {},
   "outputs": [],
   "source": [
    "import pandas as pd\n",
    "data = pd.read_csv(\"/media/hpc-lavasa/Data/krish21112016/abc/exercise_data.csv\", header = None)"
   ]
  },
  {
   "cell_type": "code",
   "execution_count": 3,
   "metadata": {},
   "outputs": [],
   "source": [
    "# Pre-Processing\n",
    "from sklearn.decomposition import PCA\n",
    "\n",
    "# Model Selection\n",
    "from sklearn.model_selection import train_test_split\n",
    "\n",
    "# Models\n",
    "from sklearn.naive_bayes import GaussianNB\n",
    "from sklearn.linear_model import LogisticRegression\n",
    "from sklearn.neighbors import KNeighborsClassifier as KNN\n",
    "from sklearn.tree import DecisionTreeClassifier\n",
    "from sklearn.ensemble import RandomForestClassifier\n",
    "\n",
    "# Evaluation Metric\n",
    "from sklearn.metrics import accuracy_score\n",
    "from sklearn.metrics import f1_score\n",
    "\n",
    "# Computational Time\n",
    "import time"
   ]
  },
  {
   "cell_type": "code",
   "execution_count": 4,
   "metadata": {},
   "outputs": [],
   "source": [
    "random_states = [355, 742, 527, 788, 38, 254, 77, 93, 22, 257, 904, 161, 56, 120, 63, 891, 853, 479]"
   ]
  },
  {
   "cell_type": "code",
   "execution_count": 5,
   "metadata": {},
   "outputs": [],
   "source": [
    "# Defining values of the parameters\n",
    "n_comps = [10, 20, 30, 40, 50, 60, 70, 80, 90, 100, 110, 120, 200, 240]\n",
    "\n",
    "# Defining a list of models\n",
    "models = [LogisticRegression(), DecisionTreeClassifier(), RandomForestClassifier()]\n",
    "\n",
    "# Definging the dataframe and its attributes\n",
    "accuracy_dataframe = pd.DataFrame(columns = ['PCA Status', 'Algorhythm', 'n_components', 'Computation Time', 'random_state', 'Accuracy Score', 'F1 score'])\n",
    "accuracy_dataframe_wo = pd.DataFrame(columns = ['PCA Status', 'Algorhythm', 'Computation Time', 'random_state', 'Accuracy Score', 'F1 score'])"
   ]
  },
  {
   "cell_type": "code",
   "execution_count": 6,
   "metadata": {},
   "outputs": [
    {
     "name": "stderr",
     "output_type": "stream",
     "text": [
      "/home/hpc-lavasa/.local/lib/python3.10/site-packages/sklearn/linear_model/_logistic.py:444: ConvergenceWarning: lbfgs failed to converge (status=1):\n",
      "STOP: TOTAL NO. of ITERATIONS REACHED LIMIT.\n",
      "\n",
      "Increase the number of iterations (max_iter) or scale the data as shown in:\n",
      "    https://scikit-learn.org/stable/modules/preprocessing.html\n",
      "Please also refer to the documentation for alternative solver options:\n",
      "    https://scikit-learn.org/stable/modules/linear_model.html#logistic-regression\n",
      "  n_iter_i = _check_optimize_result(\n"
     ]
    },
    {
     "name": "stdout",
     "output_type": "stream",
     "text": [
      "{'PCA Status': 'No', 'Algorhythm': LogisticRegression(random_state=355), 'Computation Time': 9.9518404006958, 'random_state': 355, 'Accuracy Score': 0.6833333333333333, 'F1 score': 0.6753353973168215}\n"
     ]
    },
    {
     "name": "stderr",
     "output_type": "stream",
     "text": [
      "/tmp/ipykernel_7060/4110393226.py:38: FutureWarning: The frame.append method is deprecated and will be removed from pandas in a future version. Use pandas.concat instead.\n",
      "  accuracy_dataframe_wo = accuracy_dataframe_wo.append(acc_dict, ignore_index=True)\n",
      "/home/hpc-lavasa/.local/lib/python3.10/site-packages/sklearn/linear_model/_logistic.py:444: ConvergenceWarning: lbfgs failed to converge (status=1):\n",
      "STOP: TOTAL NO. of ITERATIONS REACHED LIMIT.\n",
      "\n",
      "Increase the number of iterations (max_iter) or scale the data as shown in:\n",
      "    https://scikit-learn.org/stable/modules/preprocessing.html\n",
      "Please also refer to the documentation for alternative solver options:\n",
      "    https://scikit-learn.org/stable/modules/linear_model.html#logistic-regression\n",
      "  n_iter_i = _check_optimize_result(\n"
     ]
    },
    {
     "name": "stdout",
     "output_type": "stream",
     "text": [
      "{'PCA Status': 'No', 'Algorhythm': LogisticRegression(random_state=742), 'Computation Time': 15.647070169448853, 'random_state': 742, 'Accuracy Score': 0.7333333333333333, 'F1 score': 0.7301346801346802}\n"
     ]
    },
    {
     "name": "stderr",
     "output_type": "stream",
     "text": [
      "/tmp/ipykernel_7060/4110393226.py:38: FutureWarning: The frame.append method is deprecated and will be removed from pandas in a future version. Use pandas.concat instead.\n",
      "  accuracy_dataframe_wo = accuracy_dataframe_wo.append(acc_dict, ignore_index=True)\n",
      "/home/hpc-lavasa/.local/lib/python3.10/site-packages/sklearn/linear_model/_logistic.py:444: ConvergenceWarning: lbfgs failed to converge (status=1):\n",
      "STOP: TOTAL NO. of ITERATIONS REACHED LIMIT.\n",
      "\n",
      "Increase the number of iterations (max_iter) or scale the data as shown in:\n",
      "    https://scikit-learn.org/stable/modules/preprocessing.html\n",
      "Please also refer to the documentation for alternative solver options:\n",
      "    https://scikit-learn.org/stable/modules/linear_model.html#logistic-regression\n",
      "  n_iter_i = _check_optimize_result(\n"
     ]
    },
    {
     "name": "stdout",
     "output_type": "stream",
     "text": [
      "{'PCA Status': 'No', 'Algorhythm': LogisticRegression(random_state=527), 'Computation Time': 12.628324508666992, 'random_state': 527, 'Accuracy Score': 0.8666666666666667, 'F1 score': 0.8654239766081873}\n"
     ]
    },
    {
     "name": "stderr",
     "output_type": "stream",
     "text": [
      "/tmp/ipykernel_7060/4110393226.py:38: FutureWarning: The frame.append method is deprecated and will be removed from pandas in a future version. Use pandas.concat instead.\n",
      "  accuracy_dataframe_wo = accuracy_dataframe_wo.append(acc_dict, ignore_index=True)\n",
      "/home/hpc-lavasa/.local/lib/python3.10/site-packages/sklearn/linear_model/_logistic.py:444: ConvergenceWarning: lbfgs failed to converge (status=1):\n",
      "STOP: TOTAL NO. of ITERATIONS REACHED LIMIT.\n",
      "\n",
      "Increase the number of iterations (max_iter) or scale the data as shown in:\n",
      "    https://scikit-learn.org/stable/modules/preprocessing.html\n",
      "Please also refer to the documentation for alternative solver options:\n",
      "    https://scikit-learn.org/stable/modules/linear_model.html#logistic-regression\n",
      "  n_iter_i = _check_optimize_result(\n"
     ]
    },
    {
     "name": "stdout",
     "output_type": "stream",
     "text": [
      "{'PCA Status': 'No', 'Algorhythm': LogisticRegression(random_state=788), 'Computation Time': 13.473694324493408, 'random_state': 788, 'Accuracy Score': 0.7333333333333333, 'F1 score': 0.7324481458202389}\n"
     ]
    },
    {
     "name": "stderr",
     "output_type": "stream",
     "text": [
      "/tmp/ipykernel_7060/4110393226.py:38: FutureWarning: The frame.append method is deprecated and will be removed from pandas in a future version. Use pandas.concat instead.\n",
      "  accuracy_dataframe_wo = accuracy_dataframe_wo.append(acc_dict, ignore_index=True)\n",
      "/home/hpc-lavasa/.local/lib/python3.10/site-packages/sklearn/linear_model/_logistic.py:444: ConvergenceWarning: lbfgs failed to converge (status=1):\n",
      "STOP: TOTAL NO. of ITERATIONS REACHED LIMIT.\n",
      "\n",
      "Increase the number of iterations (max_iter) or scale the data as shown in:\n",
      "    https://scikit-learn.org/stable/modules/preprocessing.html\n",
      "Please also refer to the documentation for alternative solver options:\n",
      "    https://scikit-learn.org/stable/modules/linear_model.html#logistic-regression\n",
      "  n_iter_i = _check_optimize_result(\n"
     ]
    },
    {
     "name": "stdout",
     "output_type": "stream",
     "text": [
      "{'PCA Status': 'No', 'Algorhythm': LogisticRegression(random_state=38), 'Computation Time': 13.869728326797485, 'random_state': 38, 'Accuracy Score': 0.6833333333333333, 'F1 score': 0.688238438920075}\n"
     ]
    },
    {
     "name": "stderr",
     "output_type": "stream",
     "text": [
      "/tmp/ipykernel_7060/4110393226.py:38: FutureWarning: The frame.append method is deprecated and will be removed from pandas in a future version. Use pandas.concat instead.\n",
      "  accuracy_dataframe_wo = accuracy_dataframe_wo.append(acc_dict, ignore_index=True)\n",
      "/home/hpc-lavasa/.local/lib/python3.10/site-packages/sklearn/linear_model/_logistic.py:444: ConvergenceWarning: lbfgs failed to converge (status=1):\n",
      "STOP: TOTAL NO. of ITERATIONS REACHED LIMIT.\n",
      "\n",
      "Increase the number of iterations (max_iter) or scale the data as shown in:\n",
      "    https://scikit-learn.org/stable/modules/preprocessing.html\n",
      "Please also refer to the documentation for alternative solver options:\n",
      "    https://scikit-learn.org/stable/modules/linear_model.html#logistic-regression\n",
      "  n_iter_i = _check_optimize_result(\n"
     ]
    },
    {
     "name": "stdout",
     "output_type": "stream",
     "text": [
      "{'PCA Status': 'No', 'Algorhythm': LogisticRegression(random_state=254), 'Computation Time': 11.593498468399048, 'random_state': 254, 'Accuracy Score': 0.7166666666666667, 'F1 score': 0.71472274338128}\n"
     ]
    },
    {
     "name": "stderr",
     "output_type": "stream",
     "text": [
      "/tmp/ipykernel_7060/4110393226.py:38: FutureWarning: The frame.append method is deprecated and will be removed from pandas in a future version. Use pandas.concat instead.\n",
      "  accuracy_dataframe_wo = accuracy_dataframe_wo.append(acc_dict, ignore_index=True)\n",
      "/home/hpc-lavasa/.local/lib/python3.10/site-packages/sklearn/linear_model/_logistic.py:444: ConvergenceWarning: lbfgs failed to converge (status=1):\n",
      "STOP: TOTAL NO. of ITERATIONS REACHED LIMIT.\n",
      "\n",
      "Increase the number of iterations (max_iter) or scale the data as shown in:\n",
      "    https://scikit-learn.org/stable/modules/preprocessing.html\n",
      "Please also refer to the documentation for alternative solver options:\n",
      "    https://scikit-learn.org/stable/modules/linear_model.html#logistic-regression\n",
      "  n_iter_i = _check_optimize_result(\n"
     ]
    },
    {
     "name": "stdout",
     "output_type": "stream",
     "text": [
      "{'PCA Status': 'No', 'Algorhythm': LogisticRegression(random_state=77), 'Computation Time': 14.056900978088379, 'random_state': 77, 'Accuracy Score': 0.7833333333333333, 'F1 score': 0.7780027259130602}\n"
     ]
    },
    {
     "name": "stderr",
     "output_type": "stream",
     "text": [
      "/tmp/ipykernel_7060/4110393226.py:38: FutureWarning: The frame.append method is deprecated and will be removed from pandas in a future version. Use pandas.concat instead.\n",
      "  accuracy_dataframe_wo = accuracy_dataframe_wo.append(acc_dict, ignore_index=True)\n",
      "/home/hpc-lavasa/.local/lib/python3.10/site-packages/sklearn/linear_model/_logistic.py:444: ConvergenceWarning: lbfgs failed to converge (status=1):\n",
      "STOP: TOTAL NO. of ITERATIONS REACHED LIMIT.\n",
      "\n",
      "Increase the number of iterations (max_iter) or scale the data as shown in:\n",
      "    https://scikit-learn.org/stable/modules/preprocessing.html\n",
      "Please also refer to the documentation for alternative solver options:\n",
      "    https://scikit-learn.org/stable/modules/linear_model.html#logistic-regression\n",
      "  n_iter_i = _check_optimize_result(\n"
     ]
    },
    {
     "name": "stdout",
     "output_type": "stream",
     "text": [
      "{'PCA Status': 'No', 'Algorhythm': LogisticRegression(random_state=93), 'Computation Time': 11.491760015487671, 'random_state': 93, 'Accuracy Score': 0.65, 'F1 score': 0.6460281500048202}\n"
     ]
    },
    {
     "name": "stderr",
     "output_type": "stream",
     "text": [
      "/tmp/ipykernel_7060/4110393226.py:38: FutureWarning: The frame.append method is deprecated and will be removed from pandas in a future version. Use pandas.concat instead.\n",
      "  accuracy_dataframe_wo = accuracy_dataframe_wo.append(acc_dict, ignore_index=True)\n",
      "/home/hpc-lavasa/.local/lib/python3.10/site-packages/sklearn/linear_model/_logistic.py:444: ConvergenceWarning: lbfgs failed to converge (status=1):\n",
      "STOP: TOTAL NO. of ITERATIONS REACHED LIMIT.\n",
      "\n",
      "Increase the number of iterations (max_iter) or scale the data as shown in:\n",
      "    https://scikit-learn.org/stable/modules/preprocessing.html\n",
      "Please also refer to the documentation for alternative solver options:\n",
      "    https://scikit-learn.org/stable/modules/linear_model.html#logistic-regression\n",
      "  n_iter_i = _check_optimize_result(\n"
     ]
    },
    {
     "name": "stdout",
     "output_type": "stream",
     "text": [
      "{'PCA Status': 'No', 'Algorhythm': LogisticRegression(random_state=22), 'Computation Time': 15.722107172012329, 'random_state': 22, 'Accuracy Score': 0.7333333333333333, 'F1 score': 0.7296877691645134}\n"
     ]
    },
    {
     "name": "stderr",
     "output_type": "stream",
     "text": [
      "/tmp/ipykernel_7060/4110393226.py:38: FutureWarning: The frame.append method is deprecated and will be removed from pandas in a future version. Use pandas.concat instead.\n",
      "  accuracy_dataframe_wo = accuracy_dataframe_wo.append(acc_dict, ignore_index=True)\n",
      "/home/hpc-lavasa/.local/lib/python3.10/site-packages/sklearn/linear_model/_logistic.py:444: ConvergenceWarning: lbfgs failed to converge (status=1):\n",
      "STOP: TOTAL NO. of ITERATIONS REACHED LIMIT.\n",
      "\n",
      "Increase the number of iterations (max_iter) or scale the data as shown in:\n",
      "    https://scikit-learn.org/stable/modules/preprocessing.html\n",
      "Please also refer to the documentation for alternative solver options:\n",
      "    https://scikit-learn.org/stable/modules/linear_model.html#logistic-regression\n",
      "  n_iter_i = _check_optimize_result(\n"
     ]
    },
    {
     "name": "stdout",
     "output_type": "stream",
     "text": [
      "{'PCA Status': 'No', 'Algorhythm': LogisticRegression(random_state=257), 'Computation Time': 15.578345775604248, 'random_state': 257, 'Accuracy Score': 0.7333333333333333, 'F1 score': 0.727612819606457}\n"
     ]
    },
    {
     "name": "stderr",
     "output_type": "stream",
     "text": [
      "/tmp/ipykernel_7060/4110393226.py:38: FutureWarning: The frame.append method is deprecated and will be removed from pandas in a future version. Use pandas.concat instead.\n",
      "  accuracy_dataframe_wo = accuracy_dataframe_wo.append(acc_dict, ignore_index=True)\n",
      "/home/hpc-lavasa/.local/lib/python3.10/site-packages/sklearn/linear_model/_logistic.py:444: ConvergenceWarning: lbfgs failed to converge (status=1):\n",
      "STOP: TOTAL NO. of ITERATIONS REACHED LIMIT.\n",
      "\n",
      "Increase the number of iterations (max_iter) or scale the data as shown in:\n",
      "    https://scikit-learn.org/stable/modules/preprocessing.html\n",
      "Please also refer to the documentation for alternative solver options:\n",
      "    https://scikit-learn.org/stable/modules/linear_model.html#logistic-regression\n",
      "  n_iter_i = _check_optimize_result(\n"
     ]
    },
    {
     "name": "stdout",
     "output_type": "stream",
     "text": [
      "{'PCA Status': 'No', 'Algorhythm': LogisticRegression(random_state=904), 'Computation Time': 12.271737813949585, 'random_state': 904, 'Accuracy Score': 0.6833333333333333, 'F1 score': 0.6663191050287823}\n"
     ]
    },
    {
     "name": "stderr",
     "output_type": "stream",
     "text": [
      "/tmp/ipykernel_7060/4110393226.py:38: FutureWarning: The frame.append method is deprecated and will be removed from pandas in a future version. Use pandas.concat instead.\n",
      "  accuracy_dataframe_wo = accuracy_dataframe_wo.append(acc_dict, ignore_index=True)\n",
      "/home/hpc-lavasa/.local/lib/python3.10/site-packages/sklearn/linear_model/_logistic.py:444: ConvergenceWarning: lbfgs failed to converge (status=1):\n",
      "STOP: TOTAL NO. of ITERATIONS REACHED LIMIT.\n",
      "\n",
      "Increase the number of iterations (max_iter) or scale the data as shown in:\n",
      "    https://scikit-learn.org/stable/modules/preprocessing.html\n",
      "Please also refer to the documentation for alternative solver options:\n",
      "    https://scikit-learn.org/stable/modules/linear_model.html#logistic-regression\n",
      "  n_iter_i = _check_optimize_result(\n"
     ]
    },
    {
     "name": "stdout",
     "output_type": "stream",
     "text": [
      "{'PCA Status': 'No', 'Algorhythm': LogisticRegression(random_state=161), 'Computation Time': 13.62423825263977, 'random_state': 161, 'Accuracy Score': 0.7666666666666667, 'F1 score': 0.7643913002542132}\n"
     ]
    },
    {
     "name": "stderr",
     "output_type": "stream",
     "text": [
      "/tmp/ipykernel_7060/4110393226.py:38: FutureWarning: The frame.append method is deprecated and will be removed from pandas in a future version. Use pandas.concat instead.\n",
      "  accuracy_dataframe_wo = accuracy_dataframe_wo.append(acc_dict, ignore_index=True)\n",
      "/home/hpc-lavasa/.local/lib/python3.10/site-packages/sklearn/linear_model/_logistic.py:444: ConvergenceWarning: lbfgs failed to converge (status=1):\n",
      "STOP: TOTAL NO. of ITERATIONS REACHED LIMIT.\n",
      "\n",
      "Increase the number of iterations (max_iter) or scale the data as shown in:\n",
      "    https://scikit-learn.org/stable/modules/preprocessing.html\n",
      "Please also refer to the documentation for alternative solver options:\n",
      "    https://scikit-learn.org/stable/modules/linear_model.html#logistic-regression\n",
      "  n_iter_i = _check_optimize_result(\n"
     ]
    },
    {
     "name": "stdout",
     "output_type": "stream",
     "text": [
      "{'PCA Status': 'No', 'Algorhythm': LogisticRegression(random_state=56), 'Computation Time': 13.321731328964233, 'random_state': 56, 'Accuracy Score': 0.7666666666666667, 'F1 score': 0.7677831141245776}\n"
     ]
    },
    {
     "name": "stderr",
     "output_type": "stream",
     "text": [
      "/tmp/ipykernel_7060/4110393226.py:38: FutureWarning: The frame.append method is deprecated and will be removed from pandas in a future version. Use pandas.concat instead.\n",
      "  accuracy_dataframe_wo = accuracy_dataframe_wo.append(acc_dict, ignore_index=True)\n",
      "/home/hpc-lavasa/.local/lib/python3.10/site-packages/sklearn/linear_model/_logistic.py:444: ConvergenceWarning: lbfgs failed to converge (status=1):\n",
      "STOP: TOTAL NO. of ITERATIONS REACHED LIMIT.\n",
      "\n",
      "Increase the number of iterations (max_iter) or scale the data as shown in:\n",
      "    https://scikit-learn.org/stable/modules/preprocessing.html\n",
      "Please also refer to the documentation for alternative solver options:\n",
      "    https://scikit-learn.org/stable/modules/linear_model.html#logistic-regression\n",
      "  n_iter_i = _check_optimize_result(\n"
     ]
    },
    {
     "name": "stdout",
     "output_type": "stream",
     "text": [
      "{'PCA Status': 'No', 'Algorhythm': LogisticRegression(random_state=120), 'Computation Time': 14.371068477630615, 'random_state': 120, 'Accuracy Score': 0.75, 'F1 score': 0.7454628362973096}\n"
     ]
    },
    {
     "name": "stderr",
     "output_type": "stream",
     "text": [
      "/tmp/ipykernel_7060/4110393226.py:38: FutureWarning: The frame.append method is deprecated and will be removed from pandas in a future version. Use pandas.concat instead.\n",
      "  accuracy_dataframe_wo = accuracy_dataframe_wo.append(acc_dict, ignore_index=True)\n",
      "/home/hpc-lavasa/.local/lib/python3.10/site-packages/sklearn/linear_model/_logistic.py:444: ConvergenceWarning: lbfgs failed to converge (status=1):\n",
      "STOP: TOTAL NO. of ITERATIONS REACHED LIMIT.\n",
      "\n",
      "Increase the number of iterations (max_iter) or scale the data as shown in:\n",
      "    https://scikit-learn.org/stable/modules/preprocessing.html\n",
      "Please also refer to the documentation for alternative solver options:\n",
      "    https://scikit-learn.org/stable/modules/linear_model.html#logistic-regression\n",
      "  n_iter_i = _check_optimize_result(\n"
     ]
    },
    {
     "name": "stdout",
     "output_type": "stream",
     "text": [
      "{'PCA Status': 'No', 'Algorhythm': LogisticRegression(random_state=63), 'Computation Time': 21.004222631454468, 'random_state': 63, 'Accuracy Score': 0.7166666666666667, 'F1 score': 0.7063765736179529}\n"
     ]
    },
    {
     "name": "stderr",
     "output_type": "stream",
     "text": [
      "/tmp/ipykernel_7060/4110393226.py:38: FutureWarning: The frame.append method is deprecated and will be removed from pandas in a future version. Use pandas.concat instead.\n",
      "  accuracy_dataframe_wo = accuracy_dataframe_wo.append(acc_dict, ignore_index=True)\n",
      "/home/hpc-lavasa/.local/lib/python3.10/site-packages/sklearn/linear_model/_logistic.py:444: ConvergenceWarning: lbfgs failed to converge (status=1):\n",
      "STOP: TOTAL NO. of ITERATIONS REACHED LIMIT.\n",
      "\n",
      "Increase the number of iterations (max_iter) or scale the data as shown in:\n",
      "    https://scikit-learn.org/stable/modules/preprocessing.html\n",
      "Please also refer to the documentation for alternative solver options:\n",
      "    https://scikit-learn.org/stable/modules/linear_model.html#logistic-regression\n",
      "  n_iter_i = _check_optimize_result(\n"
     ]
    },
    {
     "name": "stdout",
     "output_type": "stream",
     "text": [
      "{'PCA Status': 'No', 'Algorhythm': LogisticRegression(random_state=891), 'Computation Time': 13.71192455291748, 'random_state': 891, 'Accuracy Score': 0.6833333333333333, 'F1 score': 0.6776460671197512}\n"
     ]
    },
    {
     "name": "stderr",
     "output_type": "stream",
     "text": [
      "/tmp/ipykernel_7060/4110393226.py:38: FutureWarning: The frame.append method is deprecated and will be removed from pandas in a future version. Use pandas.concat instead.\n",
      "  accuracy_dataframe_wo = accuracy_dataframe_wo.append(acc_dict, ignore_index=True)\n",
      "/home/hpc-lavasa/.local/lib/python3.10/site-packages/sklearn/linear_model/_logistic.py:444: ConvergenceWarning: lbfgs failed to converge (status=1):\n",
      "STOP: TOTAL NO. of ITERATIONS REACHED LIMIT.\n",
      "\n",
      "Increase the number of iterations (max_iter) or scale the data as shown in:\n",
      "    https://scikit-learn.org/stable/modules/preprocessing.html\n",
      "Please also refer to the documentation for alternative solver options:\n",
      "    https://scikit-learn.org/stable/modules/linear_model.html#logistic-regression\n",
      "  n_iter_i = _check_optimize_result(\n"
     ]
    },
    {
     "name": "stdout",
     "output_type": "stream",
     "text": [
      "{'PCA Status': 'No', 'Algorhythm': LogisticRegression(random_state=853), 'Computation Time': 12.909768342971802, 'random_state': 853, 'Accuracy Score': 0.6166666666666667, 'F1 score': 0.6148837209302326}\n"
     ]
    },
    {
     "name": "stderr",
     "output_type": "stream",
     "text": [
      "/tmp/ipykernel_7060/4110393226.py:38: FutureWarning: The frame.append method is deprecated and will be removed from pandas in a future version. Use pandas.concat instead.\n",
      "  accuracy_dataframe_wo = accuracy_dataframe_wo.append(acc_dict, ignore_index=True)\n",
      "/home/hpc-lavasa/.local/lib/python3.10/site-packages/sklearn/linear_model/_logistic.py:444: ConvergenceWarning: lbfgs failed to converge (status=1):\n",
      "STOP: TOTAL NO. of ITERATIONS REACHED LIMIT.\n",
      "\n",
      "Increase the number of iterations (max_iter) or scale the data as shown in:\n",
      "    https://scikit-learn.org/stable/modules/preprocessing.html\n",
      "Please also refer to the documentation for alternative solver options:\n",
      "    https://scikit-learn.org/stable/modules/linear_model.html#logistic-regression\n",
      "  n_iter_i = _check_optimize_result(\n"
     ]
    },
    {
     "name": "stdout",
     "output_type": "stream",
     "text": [
      "{'PCA Status': 'No', 'Algorhythm': LogisticRegression(random_state=479), 'Computation Time': 12.646089792251587, 'random_state': 479, 'Accuracy Score': 0.6333333333333333, 'F1 score': 0.6328840393667094}\n"
     ]
    },
    {
     "name": "stderr",
     "output_type": "stream",
     "text": [
      "/tmp/ipykernel_7060/4110393226.py:38: FutureWarning: The frame.append method is deprecated and will be removed from pandas in a future version. Use pandas.concat instead.\n",
      "  accuracy_dataframe_wo = accuracy_dataframe_wo.append(acc_dict, ignore_index=True)\n"
     ]
    },
    {
     "name": "stdout",
     "output_type": "stream",
     "text": [
      "{'PCA Status': 'No', 'Algorhythm': DecisionTreeClassifier(random_state=355), 'Computation Time': 5.968948125839233, 'random_state': 355, 'Accuracy Score': 0.5166666666666667, 'F1 score': 0.5162393162393163}\n"
     ]
    },
    {
     "name": "stderr",
     "output_type": "stream",
     "text": [
      "/tmp/ipykernel_7060/4110393226.py:38: FutureWarning: The frame.append method is deprecated and will be removed from pandas in a future version. Use pandas.concat instead.\n",
      "  accuracy_dataframe_wo = accuracy_dataframe_wo.append(acc_dict, ignore_index=True)\n"
     ]
    },
    {
     "name": "stdout",
     "output_type": "stream",
     "text": [
      "{'PCA Status': 'No', 'Algorhythm': DecisionTreeClassifier(random_state=742), 'Computation Time': 6.096432209014893, 'random_state': 742, 'Accuracy Score': 0.6, 'F1 score': 0.597041847041847}\n"
     ]
    },
    {
     "name": "stderr",
     "output_type": "stream",
     "text": [
      "/tmp/ipykernel_7060/4110393226.py:38: FutureWarning: The frame.append method is deprecated and will be removed from pandas in a future version. Use pandas.concat instead.\n",
      "  accuracy_dataframe_wo = accuracy_dataframe_wo.append(acc_dict, ignore_index=True)\n"
     ]
    },
    {
     "name": "stdout",
     "output_type": "stream",
     "text": [
      "{'PCA Status': 'No', 'Algorhythm': DecisionTreeClassifier(random_state=527), 'Computation Time': 7.164396286010742, 'random_state': 527, 'Accuracy Score': 0.5666666666666667, 'F1 score': 0.5637688210858942}\n"
     ]
    },
    {
     "name": "stderr",
     "output_type": "stream",
     "text": [
      "/tmp/ipykernel_7060/4110393226.py:38: FutureWarning: The frame.append method is deprecated and will be removed from pandas in a future version. Use pandas.concat instead.\n",
      "  accuracy_dataframe_wo = accuracy_dataframe_wo.append(acc_dict, ignore_index=True)\n"
     ]
    },
    {
     "name": "stdout",
     "output_type": "stream",
     "text": [
      "{'PCA Status': 'No', 'Algorhythm': DecisionTreeClassifier(random_state=788), 'Computation Time': 6.442475080490112, 'random_state': 788, 'Accuracy Score': 0.5833333333333334, 'F1 score': 0.5997055984555985}\n"
     ]
    },
    {
     "name": "stderr",
     "output_type": "stream",
     "text": [
      "/tmp/ipykernel_7060/4110393226.py:38: FutureWarning: The frame.append method is deprecated and will be removed from pandas in a future version. Use pandas.concat instead.\n",
      "  accuracy_dataframe_wo = accuracy_dataframe_wo.append(acc_dict, ignore_index=True)\n"
     ]
    },
    {
     "name": "stdout",
     "output_type": "stream",
     "text": [
      "{'PCA Status': 'No', 'Algorhythm': DecisionTreeClassifier(random_state=38), 'Computation Time': 5.2406394481658936, 'random_state': 38, 'Accuracy Score': 0.6166666666666667, 'F1 score': 0.6109890109890109}\n"
     ]
    },
    {
     "name": "stderr",
     "output_type": "stream",
     "text": [
      "/tmp/ipykernel_7060/4110393226.py:38: FutureWarning: The frame.append method is deprecated and will be removed from pandas in a future version. Use pandas.concat instead.\n",
      "  accuracy_dataframe_wo = accuracy_dataframe_wo.append(acc_dict, ignore_index=True)\n"
     ]
    },
    {
     "name": "stdout",
     "output_type": "stream",
     "text": [
      "{'PCA Status': 'No', 'Algorhythm': DecisionTreeClassifier(random_state=254), 'Computation Time': 5.5026373863220215, 'random_state': 254, 'Accuracy Score': 0.45, 'F1 score': 0.44590909090909087}\n"
     ]
    },
    {
     "name": "stderr",
     "output_type": "stream",
     "text": [
      "/tmp/ipykernel_7060/4110393226.py:38: FutureWarning: The frame.append method is deprecated and will be removed from pandas in a future version. Use pandas.concat instead.\n",
      "  accuracy_dataframe_wo = accuracy_dataframe_wo.append(acc_dict, ignore_index=True)\n"
     ]
    },
    {
     "name": "stdout",
     "output_type": "stream",
     "text": [
      "{'PCA Status': 'No', 'Algorhythm': DecisionTreeClassifier(random_state=77), 'Computation Time': 5.051493167877197, 'random_state': 77, 'Accuracy Score': 0.6666666666666666, 'F1 score': 0.6667923737691179}\n"
     ]
    },
    {
     "name": "stderr",
     "output_type": "stream",
     "text": [
      "/tmp/ipykernel_7060/4110393226.py:38: FutureWarning: The frame.append method is deprecated and will be removed from pandas in a future version. Use pandas.concat instead.\n",
      "  accuracy_dataframe_wo = accuracy_dataframe_wo.append(acc_dict, ignore_index=True)\n"
     ]
    },
    {
     "name": "stdout",
     "output_type": "stream",
     "text": [
      "{'PCA Status': 'No', 'Algorhythm': DecisionTreeClassifier(random_state=93), 'Computation Time': 6.207331418991089, 'random_state': 93, 'Accuracy Score': 0.5833333333333334, 'F1 score': 0.5830438842203549}\n"
     ]
    },
    {
     "name": "stderr",
     "output_type": "stream",
     "text": [
      "/tmp/ipykernel_7060/4110393226.py:38: FutureWarning: The frame.append method is deprecated and will be removed from pandas in a future version. Use pandas.concat instead.\n",
      "  accuracy_dataframe_wo = accuracy_dataframe_wo.append(acc_dict, ignore_index=True)\n"
     ]
    },
    {
     "name": "stdout",
     "output_type": "stream",
     "text": [
      "{'PCA Status': 'No', 'Algorhythm': DecisionTreeClassifier(random_state=22), 'Computation Time': 5.304256200790405, 'random_state': 22, 'Accuracy Score': 0.6166666666666667, 'F1 score': 0.6155743481324876}\n"
     ]
    },
    {
     "name": "stderr",
     "output_type": "stream",
     "text": [
      "/tmp/ipykernel_7060/4110393226.py:38: FutureWarning: The frame.append method is deprecated and will be removed from pandas in a future version. Use pandas.concat instead.\n",
      "  accuracy_dataframe_wo = accuracy_dataframe_wo.append(acc_dict, ignore_index=True)\n"
     ]
    },
    {
     "name": "stdout",
     "output_type": "stream",
     "text": [
      "{'PCA Status': 'No', 'Algorhythm': DecisionTreeClassifier(random_state=257), 'Computation Time': 5.032354831695557, 'random_state': 257, 'Accuracy Score': 0.6, 'F1 score': 0.5989010989010989}\n"
     ]
    },
    {
     "name": "stderr",
     "output_type": "stream",
     "text": [
      "/tmp/ipykernel_7060/4110393226.py:38: FutureWarning: The frame.append method is deprecated and will be removed from pandas in a future version. Use pandas.concat instead.\n",
      "  accuracy_dataframe_wo = accuracy_dataframe_wo.append(acc_dict, ignore_index=True)\n"
     ]
    },
    {
     "name": "stdout",
     "output_type": "stream",
     "text": [
      "{'PCA Status': 'No', 'Algorhythm': DecisionTreeClassifier(random_state=904), 'Computation Time': 5.126488924026489, 'random_state': 904, 'Accuracy Score': 0.5666666666666667, 'F1 score': 0.5669312169312168}\n"
     ]
    },
    {
     "name": "stderr",
     "output_type": "stream",
     "text": [
      "/tmp/ipykernel_7060/4110393226.py:38: FutureWarning: The frame.append method is deprecated and will be removed from pandas in a future version. Use pandas.concat instead.\n",
      "  accuracy_dataframe_wo = accuracy_dataframe_wo.append(acc_dict, ignore_index=True)\n"
     ]
    },
    {
     "name": "stdout",
     "output_type": "stream",
     "text": [
      "{'PCA Status': 'No', 'Algorhythm': DecisionTreeClassifier(random_state=161), 'Computation Time': 4.9340081214904785, 'random_state': 161, 'Accuracy Score': 0.6, 'F1 score': 0.5927350427350428}\n"
     ]
    },
    {
     "name": "stderr",
     "output_type": "stream",
     "text": [
      "/tmp/ipykernel_7060/4110393226.py:38: FutureWarning: The frame.append method is deprecated and will be removed from pandas in a future version. Use pandas.concat instead.\n",
      "  accuracy_dataframe_wo = accuracy_dataframe_wo.append(acc_dict, ignore_index=True)\n"
     ]
    },
    {
     "name": "stdout",
     "output_type": "stream",
     "text": [
      "{'PCA Status': 'No', 'Algorhythm': DecisionTreeClassifier(random_state=56), 'Computation Time': 5.849802494049072, 'random_state': 56, 'Accuracy Score': 0.48333333333333334, 'F1 score': 0.47935185185185186}\n"
     ]
    },
    {
     "name": "stderr",
     "output_type": "stream",
     "text": [
      "/tmp/ipykernel_7060/4110393226.py:38: FutureWarning: The frame.append method is deprecated and will be removed from pandas in a future version. Use pandas.concat instead.\n",
      "  accuracy_dataframe_wo = accuracy_dataframe_wo.append(acc_dict, ignore_index=True)\n"
     ]
    },
    {
     "name": "stdout",
     "output_type": "stream",
     "text": [
      "{'PCA Status': 'No', 'Algorhythm': DecisionTreeClassifier(random_state=120), 'Computation Time': 5.492425203323364, 'random_state': 120, 'Accuracy Score': 0.6166666666666667, 'F1 score': 0.622015503875969}\n"
     ]
    },
    {
     "name": "stderr",
     "output_type": "stream",
     "text": [
      "/tmp/ipykernel_7060/4110393226.py:38: FutureWarning: The frame.append method is deprecated and will be removed from pandas in a future version. Use pandas.concat instead.\n",
      "  accuracy_dataframe_wo = accuracy_dataframe_wo.append(acc_dict, ignore_index=True)\n"
     ]
    },
    {
     "name": "stdout",
     "output_type": "stream",
     "text": [
      "{'PCA Status': 'No', 'Algorhythm': DecisionTreeClassifier(random_state=63), 'Computation Time': 5.274359226226807, 'random_state': 63, 'Accuracy Score': 0.5833333333333334, 'F1 score': 0.5839153439153439}\n"
     ]
    },
    {
     "name": "stderr",
     "output_type": "stream",
     "text": [
      "/tmp/ipykernel_7060/4110393226.py:38: FutureWarning: The frame.append method is deprecated and will be removed from pandas in a future version. Use pandas.concat instead.\n",
      "  accuracy_dataframe_wo = accuracy_dataframe_wo.append(acc_dict, ignore_index=True)\n"
     ]
    },
    {
     "name": "stdout",
     "output_type": "stream",
     "text": [
      "{'PCA Status': 'No', 'Algorhythm': DecisionTreeClassifier(random_state=891), 'Computation Time': 5.524708032608032, 'random_state': 891, 'Accuracy Score': 0.45, 'F1 score': 0.45046143704680286}\n"
     ]
    },
    {
     "name": "stderr",
     "output_type": "stream",
     "text": [
      "/tmp/ipykernel_7060/4110393226.py:38: FutureWarning: The frame.append method is deprecated and will be removed from pandas in a future version. Use pandas.concat instead.\n",
      "  accuracy_dataframe_wo = accuracy_dataframe_wo.append(acc_dict, ignore_index=True)\n"
     ]
    },
    {
     "name": "stdout",
     "output_type": "stream",
     "text": [
      "{'PCA Status': 'No', 'Algorhythm': DecisionTreeClassifier(random_state=853), 'Computation Time': 5.362041711807251, 'random_state': 853, 'Accuracy Score': 0.6166666666666667, 'F1 score': 0.6214043563013815}\n"
     ]
    },
    {
     "name": "stderr",
     "output_type": "stream",
     "text": [
      "/tmp/ipykernel_7060/4110393226.py:38: FutureWarning: The frame.append method is deprecated and will be removed from pandas in a future version. Use pandas.concat instead.\n",
      "  accuracy_dataframe_wo = accuracy_dataframe_wo.append(acc_dict, ignore_index=True)\n"
     ]
    },
    {
     "name": "stdout",
     "output_type": "stream",
     "text": [
      "{'PCA Status': 'No', 'Algorhythm': DecisionTreeClassifier(random_state=479), 'Computation Time': 7.240117073059082, 'random_state': 479, 'Accuracy Score': 0.6333333333333333, 'F1 score': 0.6317653890824623}\n"
     ]
    },
    {
     "name": "stderr",
     "output_type": "stream",
     "text": [
      "/tmp/ipykernel_7060/4110393226.py:38: FutureWarning: The frame.append method is deprecated and will be removed from pandas in a future version. Use pandas.concat instead.\n",
      "  accuracy_dataframe_wo = accuracy_dataframe_wo.append(acc_dict, ignore_index=True)\n"
     ]
    },
    {
     "name": "stdout",
     "output_type": "stream",
     "text": [
      "{'PCA Status': 'No', 'Algorhythm': RandomForestClassifier(random_state=355), 'Computation Time': 1.4640934467315674, 'random_state': 355, 'Accuracy Score': 0.7666666666666667, 'F1 score': 0.7655666297526763}\n"
     ]
    },
    {
     "name": "stderr",
     "output_type": "stream",
     "text": [
      "/tmp/ipykernel_7060/4110393226.py:38: FutureWarning: The frame.append method is deprecated and will be removed from pandas in a future version. Use pandas.concat instead.\n",
      "  accuracy_dataframe_wo = accuracy_dataframe_wo.append(acc_dict, ignore_index=True)\n"
     ]
    },
    {
     "name": "stdout",
     "output_type": "stream",
     "text": [
      "{'PCA Status': 'No', 'Algorhythm': RandomForestClassifier(random_state=742), 'Computation Time': 2.206460952758789, 'random_state': 742, 'Accuracy Score': 0.7166666666666667, 'F1 score': 0.7183500942803268}\n"
     ]
    },
    {
     "name": "stderr",
     "output_type": "stream",
     "text": [
      "/tmp/ipykernel_7060/4110393226.py:38: FutureWarning: The frame.append method is deprecated and will be removed from pandas in a future version. Use pandas.concat instead.\n",
      "  accuracy_dataframe_wo = accuracy_dataframe_wo.append(acc_dict, ignore_index=True)\n"
     ]
    },
    {
     "name": "stdout",
     "output_type": "stream",
     "text": [
      "{'PCA Status': 'No', 'Algorhythm': RandomForestClassifier(random_state=527), 'Computation Time': 1.2276332378387451, 'random_state': 527, 'Accuracy Score': 0.7833333333333333, 'F1 score': 0.7845144563167818}\n"
     ]
    },
    {
     "name": "stderr",
     "output_type": "stream",
     "text": [
      "/tmp/ipykernel_7060/4110393226.py:38: FutureWarning: The frame.append method is deprecated and will be removed from pandas in a future version. Use pandas.concat instead.\n",
      "  accuracy_dataframe_wo = accuracy_dataframe_wo.append(acc_dict, ignore_index=True)\n"
     ]
    },
    {
     "name": "stdout",
     "output_type": "stream",
     "text": [
      "{'PCA Status': 'No', 'Algorhythm': RandomForestClassifier(random_state=788), 'Computation Time': 1.9977483749389648, 'random_state': 788, 'Accuracy Score': 0.7833333333333333, 'F1 score': 0.7814814814814816}\n"
     ]
    },
    {
     "name": "stderr",
     "output_type": "stream",
     "text": [
      "/tmp/ipykernel_7060/4110393226.py:38: FutureWarning: The frame.append method is deprecated and will be removed from pandas in a future version. Use pandas.concat instead.\n",
      "  accuracy_dataframe_wo = accuracy_dataframe_wo.append(acc_dict, ignore_index=True)\n"
     ]
    },
    {
     "name": "stdout",
     "output_type": "stream",
     "text": [
      "{'PCA Status': 'No', 'Algorhythm': RandomForestClassifier(random_state=38), 'Computation Time': 1.2493748664855957, 'random_state': 38, 'Accuracy Score': 0.7, 'F1 score': 0.7035340965654555}\n"
     ]
    },
    {
     "name": "stderr",
     "output_type": "stream",
     "text": [
      "/tmp/ipykernel_7060/4110393226.py:38: FutureWarning: The frame.append method is deprecated and will be removed from pandas in a future version. Use pandas.concat instead.\n",
      "  accuracy_dataframe_wo = accuracy_dataframe_wo.append(acc_dict, ignore_index=True)\n"
     ]
    },
    {
     "name": "stdout",
     "output_type": "stream",
     "text": [
      "{'PCA Status': 'No', 'Algorhythm': RandomForestClassifier(random_state=254), 'Computation Time': 2.22043776512146, 'random_state': 254, 'Accuracy Score': 0.75, 'F1 score': 0.751632817486476}\n"
     ]
    },
    {
     "name": "stderr",
     "output_type": "stream",
     "text": [
      "/tmp/ipykernel_7060/4110393226.py:38: FutureWarning: The frame.append method is deprecated and will be removed from pandas in a future version. Use pandas.concat instead.\n",
      "  accuracy_dataframe_wo = accuracy_dataframe_wo.append(acc_dict, ignore_index=True)\n"
     ]
    },
    {
     "name": "stdout",
     "output_type": "stream",
     "text": [
      "{'PCA Status': 'No', 'Algorhythm': RandomForestClassifier(random_state=77), 'Computation Time': 1.614011287689209, 'random_state': 77, 'Accuracy Score': 0.8, 'F1 score': 0.7993980097903746}\n"
     ]
    },
    {
     "name": "stderr",
     "output_type": "stream",
     "text": [
      "/tmp/ipykernel_7060/4110393226.py:38: FutureWarning: The frame.append method is deprecated and will be removed from pandas in a future version. Use pandas.concat instead.\n",
      "  accuracy_dataframe_wo = accuracy_dataframe_wo.append(acc_dict, ignore_index=True)\n"
     ]
    },
    {
     "name": "stdout",
     "output_type": "stream",
     "text": [
      "{'PCA Status': 'No', 'Algorhythm': RandomForestClassifier(random_state=93), 'Computation Time': 2.0164132118225098, 'random_state': 93, 'Accuracy Score': 0.6833333333333333, 'F1 score': 0.6872997416020673}\n"
     ]
    },
    {
     "name": "stderr",
     "output_type": "stream",
     "text": [
      "/tmp/ipykernel_7060/4110393226.py:38: FutureWarning: The frame.append method is deprecated and will be removed from pandas in a future version. Use pandas.concat instead.\n",
      "  accuracy_dataframe_wo = accuracy_dataframe_wo.append(acc_dict, ignore_index=True)\n"
     ]
    },
    {
     "name": "stdout",
     "output_type": "stream",
     "text": [
      "{'PCA Status': 'No', 'Algorhythm': RandomForestClassifier(random_state=22), 'Computation Time': 1.4497098922729492, 'random_state': 22, 'Accuracy Score': 0.7166666666666667, 'F1 score': 0.7214952973059143}\n"
     ]
    },
    {
     "name": "stderr",
     "output_type": "stream",
     "text": [
      "/tmp/ipykernel_7060/4110393226.py:38: FutureWarning: The frame.append method is deprecated and will be removed from pandas in a future version. Use pandas.concat instead.\n",
      "  accuracy_dataframe_wo = accuracy_dataframe_wo.append(acc_dict, ignore_index=True)\n"
     ]
    },
    {
     "name": "stdout",
     "output_type": "stream",
     "text": [
      "{'PCA Status': 'No', 'Algorhythm': RandomForestClassifier(random_state=257), 'Computation Time': 2.1708173751831055, 'random_state': 257, 'Accuracy Score': 0.8, 'F1 score': 0.7985236107187327}\n"
     ]
    },
    {
     "name": "stderr",
     "output_type": "stream",
     "text": [
      "/tmp/ipykernel_7060/4110393226.py:38: FutureWarning: The frame.append method is deprecated and will be removed from pandas in a future version. Use pandas.concat instead.\n",
      "  accuracy_dataframe_wo = accuracy_dataframe_wo.append(acc_dict, ignore_index=True)\n"
     ]
    },
    {
     "name": "stdout",
     "output_type": "stream",
     "text": [
      "{'PCA Status': 'No', 'Algorhythm': RandomForestClassifier(random_state=904), 'Computation Time': 1.194253921508789, 'random_state': 904, 'Accuracy Score': 0.7, 'F1 score': 0.6993859649122807}\n"
     ]
    },
    {
     "name": "stderr",
     "output_type": "stream",
     "text": [
      "/tmp/ipykernel_7060/4110393226.py:38: FutureWarning: The frame.append method is deprecated and will be removed from pandas in a future version. Use pandas.concat instead.\n",
      "  accuracy_dataframe_wo = accuracy_dataframe_wo.append(acc_dict, ignore_index=True)\n"
     ]
    },
    {
     "name": "stdout",
     "output_type": "stream",
     "text": [
      "{'PCA Status': 'No', 'Algorhythm': RandomForestClassifier(random_state=161), 'Computation Time': 2.3531653881073, 'random_state': 161, 'Accuracy Score': 0.8666666666666667, 'F1 score': 0.866357069143447}\n"
     ]
    },
    {
     "name": "stderr",
     "output_type": "stream",
     "text": [
      "/tmp/ipykernel_7060/4110393226.py:38: FutureWarning: The frame.append method is deprecated and will be removed from pandas in a future version. Use pandas.concat instead.\n",
      "  accuracy_dataframe_wo = accuracy_dataframe_wo.append(acc_dict, ignore_index=True)\n"
     ]
    },
    {
     "name": "stdout",
     "output_type": "stream",
     "text": [
      "{'PCA Status': 'No', 'Algorhythm': RandomForestClassifier(random_state=56), 'Computation Time': 1.7335314750671387, 'random_state': 56, 'Accuracy Score': 0.75, 'F1 score': 0.7508700960874873}\n"
     ]
    },
    {
     "name": "stderr",
     "output_type": "stream",
     "text": [
      "/tmp/ipykernel_7060/4110393226.py:38: FutureWarning: The frame.append method is deprecated and will be removed from pandas in a future version. Use pandas.concat instead.\n",
      "  accuracy_dataframe_wo = accuracy_dataframe_wo.append(acc_dict, ignore_index=True)\n"
     ]
    },
    {
     "name": "stdout",
     "output_type": "stream",
     "text": [
      "{'PCA Status': 'No', 'Algorhythm': RandomForestClassifier(random_state=120), 'Computation Time': 1.866046667098999, 'random_state': 120, 'Accuracy Score': 0.7333333333333333, 'F1 score': 0.7318142918271288}\n"
     ]
    },
    {
     "name": "stderr",
     "output_type": "stream",
     "text": [
      "/tmp/ipykernel_7060/4110393226.py:38: FutureWarning: The frame.append method is deprecated and will be removed from pandas in a future version. Use pandas.concat instead.\n",
      "  accuracy_dataframe_wo = accuracy_dataframe_wo.append(acc_dict, ignore_index=True)\n"
     ]
    },
    {
     "name": "stdout",
     "output_type": "stream",
     "text": [
      "{'PCA Status': 'No', 'Algorhythm': RandomForestClassifier(random_state=63), 'Computation Time': 1.7110631465911865, 'random_state': 63, 'Accuracy Score': 0.65, 'F1 score': 0.6513173518179777}\n"
     ]
    },
    {
     "name": "stderr",
     "output_type": "stream",
     "text": [
      "/tmp/ipykernel_7060/4110393226.py:38: FutureWarning: The frame.append method is deprecated and will be removed from pandas in a future version. Use pandas.concat instead.\n",
      "  accuracy_dataframe_wo = accuracy_dataframe_wo.append(acc_dict, ignore_index=True)\n"
     ]
    },
    {
     "name": "stdout",
     "output_type": "stream",
     "text": [
      "{'PCA Status': 'No', 'Algorhythm': RandomForestClassifier(random_state=891), 'Computation Time': 2.0964062213897705, 'random_state': 891, 'Accuracy Score': 0.7, 'F1 score': 0.7014646464646465}\n"
     ]
    },
    {
     "name": "stderr",
     "output_type": "stream",
     "text": [
      "/tmp/ipykernel_7060/4110393226.py:38: FutureWarning: The frame.append method is deprecated and will be removed from pandas in a future version. Use pandas.concat instead.\n",
      "  accuracy_dataframe_wo = accuracy_dataframe_wo.append(acc_dict, ignore_index=True)\n"
     ]
    },
    {
     "name": "stdout",
     "output_type": "stream",
     "text": [
      "{'PCA Status': 'No', 'Algorhythm': RandomForestClassifier(random_state=853), 'Computation Time': 1.9670393466949463, 'random_state': 853, 'Accuracy Score': 0.75, 'F1 score': 0.7475924075924075}\n"
     ]
    },
    {
     "name": "stderr",
     "output_type": "stream",
     "text": [
      "/tmp/ipykernel_7060/4110393226.py:38: FutureWarning: The frame.append method is deprecated and will be removed from pandas in a future version. Use pandas.concat instead.\n",
      "  accuracy_dataframe_wo = accuracy_dataframe_wo.append(acc_dict, ignore_index=True)\n"
     ]
    },
    {
     "name": "stdout",
     "output_type": "stream",
     "text": [
      "{'PCA Status': 'No', 'Algorhythm': RandomForestClassifier(random_state=479), 'Computation Time': 1.6806001663208008, 'random_state': 479, 'Accuracy Score': 0.6333333333333333, 'F1 score': 0.6326999432785025}\n"
     ]
    },
    {
     "name": "stderr",
     "output_type": "stream",
     "text": [
      "/tmp/ipykernel_7060/4110393226.py:38: FutureWarning: The frame.append method is deprecated and will be removed from pandas in a future version. Use pandas.concat instead.\n",
      "  accuracy_dataframe_wo = accuracy_dataframe_wo.append(acc_dict, ignore_index=True)\n"
     ]
    }
   ],
   "source": [
    "# --- Without PCA: LogisticRegression(), DecisionTreeClassifier(), RandomForestClassifier() ---\n",
    "\n",
    "for i in models:\n",
    "    for k in random_states:\n",
    "\n",
    "        # Storing all the values in this empty dictionary\n",
    "        acc_dict = {}\n",
    "        \n",
    "        # Defining the features and the target variables\n",
    "        X = data\n",
    "        y = target\n",
    "\n",
    "        # Starting the time counter\n",
    "        start_time = time.time()\n",
    "\n",
    "        # Setting up random states\n",
    "        i.set_params(random_state = k)\n",
    "\n",
    "        # Data Splitting\n",
    "        X_train, X_test, y_train, y_test = train_test_split(X, y)\n",
    "        # Model Training\n",
    "        i.fit(X_train, y_train)\n",
    "\n",
    "        # Ending the time counter\n",
    "        time_taken = time.time() - start_time\n",
    "\n",
    "        # Prediction\n",
    "        y_pred = i.predict(X_test)\n",
    "\n",
    "        acc_dict['PCA Status'] = 'No'\n",
    "        acc_dict['Algorhythm'] = i\n",
    "        acc_dict['Computation Time'] = time_taken\n",
    "        acc_dict['random_state'] = k\n",
    "        acc_dict['Accuracy Score'] = accuracy_score(y_test, y_pred)\n",
    "        acc_dict['F1 score'] = f1_score(y_test, y_pred, average='weighted')\n",
    "        print(acc_dict)\n",
    "\n",
    "        accuracy_dataframe_wo = accuracy_dataframe_wo.append(acc_dict, ignore_index=True)"
   ]
  },
  {
   "cell_type": "code",
   "execution_count": 12,
   "metadata": {},
   "outputs": [],
   "source": [
    "# Exporting all the data to save the data\n",
    "accuracy_dataframe_wo.to_excel('Accuracy_woPCA_1.xlsx', index = False)"
   ]
  },
  {
   "cell_type": "code",
   "execution_count": null,
   "metadata": {},
   "outputs": [],
   "source": []
  }
 ],
 "metadata": {
  "kernelspec": {
   "display_name": "Python 3 (ipykernel)",
   "language": "python",
   "name": "python3"
  },
  "language_info": {
   "codemirror_mode": {
    "name": "ipython",
    "version": 3
   },
   "file_extension": ".py",
   "mimetype": "text/x-python",
   "name": "python",
   "nbconvert_exporter": "python",
   "pygments_lexer": "ipython3",
   "version": "3.11.1"
  }
 },
 "nbformat": 4,
 "nbformat_minor": 2
}
