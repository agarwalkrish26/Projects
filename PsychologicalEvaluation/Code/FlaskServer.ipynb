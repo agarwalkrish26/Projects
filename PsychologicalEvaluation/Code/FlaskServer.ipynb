{
 "cells": [
  {
   "cell_type": "code",
   "execution_count": 1,
   "metadata": {
    "colab": {
     "base_uri": "https://localhost:8080/"
    },
    "id": "a2d4d17b",
    "outputId": "7c6fb225-adec-4984-c1f2-2888d119af3c"
   },
   "outputs": [],
   "source": [
    "#pip install flask_cors"
   ]
  },
  {
   "cell_type": "code",
   "execution_count": 2,
   "metadata": {
    "id": "BFYZSl_W_Wa2"
   },
   "outputs": [],
   "source": [
    "import pickle\n",
    "import numpy as np\n",
    "import math\n",
    "import flask\n",
    "from flask import request\n",
    "from flask_cors import CORS, cross_origin"
   ]
  },
  {
   "cell_type": "code",
   "execution_count": 3,
   "metadata": {
    "id": "RQgyNgoT_SZ0"
   },
   "outputs": [],
   "source": [
    "rg = pickle.load(open(\"C:/Users/Lenovo/Desktop/KRISH/Data Analytics/rg_model.pickle\", \"rb\"))\n",
    "label_encoded_gender = pickle.load(open(\"C:/Users/Lenovo/Desktop/KRISH/Data Analytics/label_encoder_gender.pickle\", \"rb\"))\n",
    "one_hot_encoded_ss = pickle.load(open(\"C:/Users/Lenovo/Desktop/KRISH/Data Analytics/one_hot_encoder_ss_status.pickle\", \"rb\"))"
   ]
  },
  {
   "cell_type": "code",
   "execution_count": null,
   "metadata": {
    "colab": {
     "background_save": true,
     "base_uri": "https://localhost:8080/"
    },
    "id": "dml9CrCf_d09",
    "outputId": "17fb2d50-9b7a-4255-d496-7a6d100fd061"
   },
   "outputs": [
    {
     "name": "stdout",
     "output_type": "stream",
     "text": [
      " * Serving Flask app \"__main__\" (lazy loading)\n",
      " * Environment: production\n",
      "   WARNING: This is a development server. Do not use it in a production deployment.\n",
      "   Use a production WSGI server instead.\n",
      " * Debug mode: off\n"
     ]
    },
    {
     "name": "stderr",
     "output_type": "stream",
     "text": [
      " * Running on http://localhost:8080/ (Press CTRL+C to quit)\n",
      "127.0.0.1 - - [12/Dec/2022 19:51:14] \"\u001b[37mOPTIONS /calculateSSscore HTTP/1.1\u001b[0m\" 200 -\n",
      "127.0.0.1 - - [12/Dec/2022 19:51:14] \"\u001b[31m\u001b[1mPOST /calculateSSscore HTTP/1.1\u001b[0m\" 400 -\n"
     ]
    },
    {
     "name": "stdout",
     "output_type": "stream",
     "text": [
      "hello\n"
     ]
    },
    {
     "name": "stderr",
     "output_type": "stream",
     "text": [
      "127.0.0.1 - - [12/Dec/2022 19:52:17] \"\u001b[37mOPTIONS /calculateSSscore HTTP/1.1\u001b[0m\" 200 -\n",
      "127.0.0.1 - - [12/Dec/2022 19:52:17] \"\u001b[31m\u001b[1mPOST /calculateSSscore HTTP/1.1\u001b[0m\" 400 -\n"
     ]
    },
    {
     "name": "stdout",
     "output_type": "stream",
     "text": [
      "hello\n"
     ]
    },
    {
     "name": "stderr",
     "output_type": "stream",
     "text": [
      "127.0.0.1 - - [12/Dec/2022 19:52:31] \"\u001b[37mOPTIONS /calculateSSscore HTTP/1.1\u001b[0m\" 200 -\n",
      "127.0.0.1 - - [12/Dec/2022 19:52:31] \"\u001b[31m\u001b[1mPOST /calculateSSscore HTTP/1.1\u001b[0m\" 400 -\n"
     ]
    },
    {
     "name": "stdout",
     "output_type": "stream",
     "text": [
      "hello\n"
     ]
    },
    {
     "name": "stderr",
     "output_type": "stream",
     "text": [
      "127.0.0.1 - - [12/Dec/2022 19:53:38] \"\u001b[37mOPTIONS /calculateSSscore HTTP/1.1\u001b[0m\" 200 -\n",
      "127.0.0.1 - - [12/Dec/2022 19:53:38] \"\u001b[31m\u001b[1mPOST /calculateSSscore HTTP/1.1\u001b[0m\" 400 -\n"
     ]
    },
    {
     "name": "stdout",
     "output_type": "stream",
     "text": [
      "hello\n"
     ]
    },
    {
     "name": "stderr",
     "output_type": "stream",
     "text": [
      "127.0.0.1 - - [12/Dec/2022 19:56:13] \"\u001b[37mPOST /calculateSSscore HTTP/1.1\u001b[0m\" 200 -\n"
     ]
    },
    {
     "name": "stdout",
     "output_type": "stream",
     "text": [
      "hello\n",
      "{'age': 19, 'gender': 'Male', 'ss1': 3, 'ss2': 4, 'ss3': 7, 'ss4': 1, 'ss5': 5, 'ss6': 6, 'ss7': 1, 'ss8': 2, 'ss9': 7, 'ss10': 4, 'ss11': 3, 'ss12': 6}\n",
      "4\n",
      "Social Support Score:  4 Social Support Status:  MODERATE\n"
     ]
    },
    {
     "name": "stderr",
     "output_type": "stream",
     "text": [
      "127.0.0.1 - - [12/Dec/2022 19:56:58] \"\u001b[37mOPTIONS /calculateSSscore HTTP/1.1\u001b[0m\" 200 -\n",
      "127.0.0.1 - - [12/Dec/2022 19:56:58] \"\u001b[31m\u001b[1mPOST /calculateSSscore HTTP/1.1\u001b[0m\" 400 -\n"
     ]
    },
    {
     "name": "stdout",
     "output_type": "stream",
     "text": [
      "hello\n"
     ]
    },
    {
     "name": "stderr",
     "output_type": "stream",
     "text": [
      "127.0.0.1 - - [12/Dec/2022 19:57:09] \"\u001b[37mOPTIONS /calculateSSscore HTTP/1.1\u001b[0m\" 200 -\n",
      "127.0.0.1 - - [12/Dec/2022 19:57:09] \"\u001b[31m\u001b[1mPOST /calculateSSscore HTTP/1.1\u001b[0m\" 400 -\n"
     ]
    },
    {
     "name": "stdout",
     "output_type": "stream",
     "text": [
      "hello\n"
     ]
    },
    {
     "name": "stderr",
     "output_type": "stream",
     "text": [
      "127.0.0.1 - - [12/Dec/2022 19:57:15] \"\u001b[37mPOST /calculateSSscore HTTP/1.1\u001b[0m\" 200 -\n"
     ]
    },
    {
     "name": "stdout",
     "output_type": "stream",
     "text": [
      "hello\n",
      "{'age': 19, 'gender': 'Male', 'ss1': 3, 'ss2': 4, 'ss3': 7, 'ss4': 1, 'ss5': 5, 'ss6': 6, 'ss7': 1, 'ss8': 2, 'ss9': 7, 'ss10': 4, 'ss11': 3, 'ss12': 6}\n",
      "4\n",
      "Social Support Score:  4 Social Support Status:  MODERATE\n"
     ]
    },
    {
     "name": "stderr",
     "output_type": "stream",
     "text": [
      "127.0.0.1 - - [12/Dec/2022 19:58:43] \"\u001b[37mOPTIONS /calculateSSscore HTTP/1.1\u001b[0m\" 200 -\n",
      "127.0.0.1 - - [12/Dec/2022 19:58:44] \"\u001b[31m\u001b[1mPOST /calculateSSscore HTTP/1.1\u001b[0m\" 400 -\n"
     ]
    },
    {
     "name": "stdout",
     "output_type": "stream",
     "text": [
      "hello\n"
     ]
    },
    {
     "name": "stderr",
     "output_type": "stream",
     "text": [
      "127.0.0.1 - - [12/Dec/2022 19:58:53] \"\u001b[37mOPTIONS /calculateSSscore HTTP/1.1\u001b[0m\" 200 -\n",
      "127.0.0.1 - - [12/Dec/2022 19:58:53] \"\u001b[31m\u001b[1mPOST /calculateSSscore HTTP/1.1\u001b[0m\" 400 -\n"
     ]
    },
    {
     "name": "stdout",
     "output_type": "stream",
     "text": [
      "hello\n"
     ]
    },
    {
     "name": "stderr",
     "output_type": "stream",
     "text": [
      "127.0.0.1 - - [12/Dec/2022 20:01:58] \"\u001b[37mPOST /calculateSSscore HTTP/1.1\u001b[0m\" 200 -\n"
     ]
    },
    {
     "name": "stdout",
     "output_type": "stream",
     "text": [
      "hello\n",
      "{'age': 19, 'gender': 'Male', 'ss1': 3, 'ss2': 4, 'ss3': 7, 'ss4': 1, 'ss5': 5, 'ss6': 6, 'ss7': 1, 'ss8': 2, 'ss9': 7, 'ss10': 4, 'ss11': 3, 'ss12': 6}\n",
      "4\n",
      "Social Support Score:  4 Social Support Status:  MODERATE\n"
     ]
    },
    {
     "name": "stderr",
     "output_type": "stream",
     "text": [
      "127.0.0.1 - - [12/Dec/2022 20:02:11] \"\u001b[37mOPTIONS /calculateSSscore HTTP/1.1\u001b[0m\" 200 -\n",
      "127.0.0.1 - - [12/Dec/2022 20:02:11] \"\u001b[31m\u001b[1mPOST /calculateSSscore HTTP/1.1\u001b[0m\" 400 -\n"
     ]
    },
    {
     "name": "stdout",
     "output_type": "stream",
     "text": [
      "hello\n"
     ]
    },
    {
     "name": "stderr",
     "output_type": "stream",
     "text": [
      "127.0.0.1 - - [12/Dec/2022 20:02:20] \"\u001b[37mOPTIONS /calculateSSscore HTTP/1.1\u001b[0m\" 200 -\n",
      "127.0.0.1 - - [12/Dec/2022 20:02:21] \"\u001b[31m\u001b[1mPOST /calculateSSscore HTTP/1.1\u001b[0m\" 400 -\n"
     ]
    },
    {
     "name": "stdout",
     "output_type": "stream",
     "text": [
      "hello\n"
     ]
    },
    {
     "name": "stderr",
     "output_type": "stream",
     "text": [
      "127.0.0.1 - - [12/Dec/2022 20:02:31] \"\u001b[37mOPTIONS /calculateSSscore HTTP/1.1\u001b[0m\" 200 -\n",
      "127.0.0.1 - - [12/Dec/2022 20:02:31] \"\u001b[31m\u001b[1mPOST /calculateSSscore HTTP/1.1\u001b[0m\" 400 -\n"
     ]
    },
    {
     "name": "stdout",
     "output_type": "stream",
     "text": [
      "hello\n"
     ]
    },
    {
     "name": "stderr",
     "output_type": "stream",
     "text": [
      "127.0.0.1 - - [12/Dec/2022 20:06:03] \"\u001b[37mOPTIONS /calculateSSscore HTTP/1.1\u001b[0m\" 200 -\n",
      "127.0.0.1 - - [12/Dec/2022 20:06:03] \"\u001b[37mPOST /calculateSSscore HTTP/1.1\u001b[0m\" 200 -\n"
     ]
    },
    {
     "name": "stdout",
     "output_type": "stream",
     "text": [
      "hello\n",
      "{'age': 19, 'gender': 'Male', 'ss1': 3, 'ss2': 4, 'ss3': 7, 'ss4': 1, 'ss5': 5, 'ss6': 6, 'ss7': 1, 'ss8': 2, 'ss9': 7, 'ss10': 4, 'ss11': 3, 'ss12': 6}\n",
      "4\n",
      "Social Support Score:  4 Social Support Status:  MODERATE\n"
     ]
    },
    {
     "name": "stderr",
     "output_type": "stream",
     "text": [
      "127.0.0.1 - - [12/Dec/2022 20:35:30] \"\u001b[37mOPTIONS /calculateSSscore HTTP/1.1\u001b[0m\" 200 -\n",
      "127.0.0.1 - - [12/Dec/2022 20:35:31] \"\u001b[37mPOST /calculateSSscore HTTP/1.1\u001b[0m\" 200 -\n"
     ]
    },
    {
     "name": "stdout",
     "output_type": "stream",
     "text": [
      "hello\n",
      "{'age': '19', 'gender': 'Male', 'ss1': '5', 'ss2': '4', 'ss3': '3', 'ss4': '6', 'ss5': '5', 'ss6': '4', 'ss7': '56', 'ss8': '7', 'ss9': '1', 'ss10': '3', 'ss11': '4', 'ss12': '1'}\n",
      "8\n",
      "Social Support Score:  8 Social Support Status:  0\n"
     ]
    },
    {
     "name": "stderr",
     "output_type": "stream",
     "text": [
      "127.0.0.1 - - [12/Dec/2022 20:35:31] \"\u001b[37mOPTIONS /calculateSSscore HTTP/1.1\u001b[0m\" 200 -\n",
      "127.0.0.1 - - [12/Dec/2022 20:35:31] \"\u001b[37mPOST /calculateSSscore HTTP/1.1\u001b[0m\" 200 -\n"
     ]
    },
    {
     "name": "stdout",
     "output_type": "stream",
     "text": [
      "hello\n",
      "{'age': '19', 'gender': 'Male', 'ss1': '5', 'ss2': '4', 'ss3': '3', 'ss4': '6', 'ss5': '5', 'ss6': '4', 'ss7': '56', 'ss8': '7', 'ss9': '1', 'ss10': '3', 'ss11': '4', 'ss12': '1'}\n",
      "8\n",
      "Social Support Score:  8 Social Support Status:  0\n"
     ]
    },
    {
     "name": "stderr",
     "output_type": "stream",
     "text": [
      "127.0.0.1 - - [12/Dec/2022 20:36:10] \"\u001b[37mOPTIONS /calculateSSscore HTTP/1.1\u001b[0m\" 200 -\n",
      "127.0.0.1 - - [12/Dec/2022 20:36:10] \"\u001b[37mPOST /calculateSSscore HTTP/1.1\u001b[0m\" 200 -\n"
     ]
    },
    {
     "name": "stdout",
     "output_type": "stream",
     "text": [
      "hello\n",
      "{'age': '19', 'gender': 'Male', 'ss1': '5', 'ss2': '4', 'ss3': '3', 'ss4': '6', 'ss5': '5', 'ss6': '4', 'ss7': '5', 'ss8': '7', 'ss9': '1', 'ss10': '3', 'ss11': '4', 'ss12': '1'}\n",
      "4\n",
      "Social Support Score:  4 Social Support Status:  MODERATE\n"
     ]
    },
    {
     "name": "stderr",
     "output_type": "stream",
     "text": [
      "127.0.0.1 - - [12/Dec/2022 21:32:00] \"\u001b[37mOPTIONS /predictValue HTTP/1.1\u001b[0m\" 200 -\n",
      "C:\\Users\\Lenovo\\anaconda3\\lib\\site-packages\\sklearn\\base.py:409: UserWarning: X does not have valid feature names, but Ridge was fitted with feature names\n",
      "  warnings.warn(\n",
      "127.0.0.1 - - [12/Dec/2022 21:32:00] \"\u001b[37mPOST /predictValue HTTP/1.1\u001b[0m\" 200 -\n"
     ]
    },
    {
     "name": "stdout",
     "output_type": "stream",
     "text": [
      "Social Support Score :  4\n",
      "1\n",
      "Input [19, 1, 5, 6, 7, 2, 3, 1, 5, 6, 1, 3, 7, 6, 4, 1, 0, 0]\n",
      "R Score 46.025664261380015\n"
     ]
    },
    {
     "name": "stderr",
     "output_type": "stream",
     "text": [
      "127.0.0.1 - - [12/Dec/2022 21:32:22] \"\u001b[37mOPTIONS /calculateSSscore HTTP/1.1\u001b[0m\" 200 -\n",
      "127.0.0.1 - - [12/Dec/2022 21:32:23] \"\u001b[37mPOST /calculateSSscore HTTP/1.1\u001b[0m\" 200 -\n"
     ]
    },
    {
     "name": "stdout",
     "output_type": "stream",
     "text": [
      "hello\n",
      "{'age': '19', 'gender': 'Male', 'ss1': '5', 'ss2': '6', 'ss3': '7', 'ss4': '1', 'ss5': '3', 'ss6': '2', 'ss7': '4', 'ss8': '5', 'ss9': '4', 'ss10': '1', 'ss11': '4', 'ss12': '6'}\n",
      "4\n",
      "Social Support Score:  4 Social Support Status:  MODERATE\n"
     ]
    }
   ],
   "source": [
    "app = flask.Flask(__name__)\n",
    "CORS(app, support_credentials = True)\n",
    "\n",
    "# GET END Point\n",
    "@app.route('/hello')\n",
    "@cross_origin(supports_credentials = True)\n",
    "def sayHello():\n",
    "    print(\"Hello All!\")\n",
    "    return 'Message Received'\n",
    "\n",
    "@app.route('/calculateSSscore', methods = ['POST'])\n",
    "@cross_origin(supports_credentials = True)\n",
    "def calculateSSscore():\n",
    "    \n",
    "        print('hello')\n",
    "        \n",
    "        data2 = request.get_json()\n",
    "        print(data2)\n",
    "        print(\"Hello Again!\")\n",
    "        age = int(data2['age'])\n",
    "        gender = data2['gender']\n",
    "        ss1 = int(data2['ss1'])\n",
    "        ss2 = int(data2['ss2'])\n",
    "        ss3 = int(data2['ss3'])\n",
    "        ss4 = int(data2['ss4'])\n",
    "        ss5 = int(data2['ss5'])\n",
    "        ss6 = int(data2['ss6'])\n",
    "        ss7 = int(data2['ss7'])\n",
    "        ss8 = int(data2['ss8'])\n",
    "        ss9 = int(data2['ss9'])\n",
    "        ss10 = int(data2['ss10'])\n",
    "        ss11 = int(data2['ss11'])\n",
    "        ss12 = int(data2['ss12'])\n",
    "\n",
    "        # Calculating the SS Score\n",
    "        ss_score = (ss1 + ss2 + ss3 + ss4 + ss5 + ss6 + ss7 + ss8 + ss9 + ss10 + ss11 + ss12)//12\n",
    "        ss_status = 0\n",
    "                \n",
    "        print(ss_score)\n",
    "            \n",
    "        # Calculating the encoded variables\n",
    "        if ((ss_score>=0) and (ss_score<=2.9)):\n",
    "            ss_status = \"LOW\"\n",
    "        elif ((ss_score>2.9) and (ss_score<=5)):\n",
    "            ss_status = \"MODERATE\"\n",
    "        elif ((ss_score>5) and (ss_score<=7)):\n",
    "            ss_status = \"HIGH\"\n",
    "            \n",
    "        print(\"Social Support Score: \", ss_score, \"Social Support Status: \", ss_status)\n",
    "        return {\"SS_score\" : ss_score,\n",
    "               \"SS_status\" : ss_status}\n",
    "        \n",
    "    \n",
    "@app.route('/predictValue', methods = ['POST'])\n",
    "@cross_origin(supports_credentials = True)\n",
    "def predictvalue():\n",
    "    \n",
    "        data3 = request.get_json()\n",
    "        age = int(data3['age'])\n",
    "        gender = data3['gender']\n",
    "        ss1 = int(data3['ss1'])\n",
    "        ss2 = int(data3['ss2'])\n",
    "        ss3 = int(data3['ss3'])\n",
    "        ss4 = int(data3['ss4'])\n",
    "        ss5 = int(data3['ss5'])\n",
    "        ss6 = int(data3['ss6'])\n",
    "        ss7 = int(data3['ss7'])\n",
    "        ss8 = int(data3['ss8'])\n",
    "        ss9 = int(data3['ss9'])\n",
    "        ss10 = int(data3['ss10'])\n",
    "        ss11 = int(data3['ss11'])\n",
    "        ss12 = int(data3['ss12'])\n",
    "\n",
    "        # Calculating the SS Score\n",
    "        ss_score = (ss1 + ss2 + ss3 + ss4 + ss5 + ss6 + ss7 + ss8 + ss9 + ss10 + ss11 + ss12)//12\n",
    "        ss_moderate = 0\n",
    "        ss_high = 0\n",
    "        ss_low = 0\n",
    "\n",
    "        # Calculating the encoded variables\n",
    "        if ((ss_score>=0) and (ss_score<=2.9)):\n",
    "            ss_low = 1\n",
    "        elif ((ss_score>2.9) and (ss_score<=5)):\n",
    "            ss_moderate = 1\n",
    "        elif ((ss_score>5) and (ss_score<=7)):\n",
    "            ss_high = 1\n",
    "            \n",
    "        print(\"Social Support Score : \", ss_score)\n",
    "\n",
    "        # Label Encoding the genders to their respective numbers\n",
    "        gender_label = label_encoded_gender.transform([gender])\n",
    "        gender_label = gender_label[0]\n",
    "        print(gender_label)\n",
    "        \n",
    "        x = [age, gender_label, ss1, ss2, ss3, ss4, ss5, ss6, ss7, ss8, ss9, ss10, ss11, ss12, ss_score, ss_moderate, ss_high, ss_low]\n",
    "        print(\"Input\", x)\n",
    "        \n",
    "        # Predicting the R Score\n",
    "        r_score = rg.predict([x]) \n",
    "        print(\"R Score\", r_score[0])\n",
    "        \n",
    "        return {\"R_score\" : r_score[0]} \n",
    "    \n",
    "    \n",
    "app.run(host = 'localhost', port = 8080)"
   ]
  },
  {
   "cell_type": "code",
   "execution_count": null,
   "metadata": {},
   "outputs": [],
   "source": []
  }
 ],
 "metadata": {
  "colab": {
   "provenance": []
  },
  "kernelspec": {
   "display_name": "Python 3",
   "language": "python",
   "name": "python3"
  },
  "language_info": {
   "codemirror_mode": {
    "name": "ipython",
    "version": 3
   },
   "file_extension": ".py",
   "mimetype": "text/x-python",
   "name": "python",
   "nbconvert_exporter": "python",
   "pygments_lexer": "ipython3",
   "version": "3.8.8"
  }
 },
 "nbformat": 4,
 "nbformat_minor": 1
}
